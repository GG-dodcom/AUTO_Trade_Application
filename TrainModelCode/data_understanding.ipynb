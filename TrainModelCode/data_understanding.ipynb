{
 "cells": [
  {
   "cell_type": "markdown",
   "metadata": {},
   "source": [
    "# Data Understanding"
   ]
  },
  {
   "cell_type": "markdown",
   "metadata": {
    "id": "UKaCkcZdmlUG"
   },
   "source": [
    "## Dataset 1: Forex Factory Economic Calendar"
   ]
  },
  {
   "cell_type": "code",
   "execution_count": null,
   "metadata": {
    "colab": {
     "base_uri": "https://localhost:8080/",
     "height": 321
    },
    "executionInfo": {
     "elapsed": 534,
     "status": "error",
     "timestamp": 1730819272620,
     "user": {
      "displayName": "Chin Wei Min",
      "userId": "17142102749638139201"
     },
     "user_tz": -480
    },
    "id": "SnUFpDcQsZXd",
    "outputId": "ced33f6b-7c1a-4f7a-93a2-583429e79fe6"
   },
   "outputs": [],
   "source": [
    "import pandas as pd\n",
    "\n",
    "# Load the dataset\n",
    "file_path = '/content/forexfactory_economic_calendar.csv'\n",
    "data = pd.read_csv(file_path)"
   ]
  },
  {
   "cell_type": "markdown",
   "metadata": {
    "id": "CIhucIIOtKKu"
   },
   "source": [
    "### Understand the Variables"
   ]
  },
  {
   "cell_type": "markdown",
   "metadata": {
    "id": "pqzSN9dwtRU6"
   },
   "source": [
    "Display the first few rows to get an overview:"
   ]
  },
  {
   "cell_type": "code",
   "execution_count": null,
   "metadata": {
    "executionInfo": {
     "elapsed": 63,
     "status": "aborted",
     "timestamp": 1730819272681,
     "user": {
      "displayName": "Chin Wei Min",
      "userId": "17142102749638139201"
     },
     "user_tz": -480
    },
    "id": "tvqdYaeXsmal"
   },
   "outputs": [],
   "source": [
    "data.head()"
   ]
  },
  {
   "cell_type": "markdown",
   "metadata": {
    "id": "_p7SLlvbs04g"
   },
   "source": [
    "Get a summary of the dataset, including data types and non-null counts:"
   ]
  },
  {
   "cell_type": "code",
   "execution_count": null,
   "metadata": {
    "executionInfo": {
     "elapsed": 63,
     "status": "aborted",
     "timestamp": 1730819272682,
     "user": {
      "displayName": "Chin Wei Min",
      "userId": "17142102749638139201"
     },
     "user_tz": -480
    },
    "id": "YInRMEShs0EE"
   },
   "outputs": [],
   "source": [
    "data.info()"
   ]
  },
  {
   "cell_type": "markdown",
   "metadata": {
    "id": "6oCpQgC0s-N9"
   },
   "source": [
    "Generate descriptive statistics for numerical columns:"
   ]
  },
  {
   "cell_type": "code",
   "execution_count": null,
   "metadata": {
    "executionInfo": {
     "elapsed": 64,
     "status": "aborted",
     "timestamp": 1730819272683,
     "user": {
      "displayName": "Chin Wei Min",
      "userId": "17142102749638139201"
     },
     "user_tz": -480
    },
    "id": "Frs4Tm6Xs-uG"
   },
   "outputs": [],
   "source": [
    "data.describe()"
   ]
  },
  {
   "cell_type": "markdown",
   "metadata": {
    "id": "xMRxQafftM-E"
   },
   "source": [
    "### Explore the Data"
   ]
  },
  {
   "cell_type": "markdown",
   "metadata": {
    "id": "xvkTDQQ2tUNI"
   },
   "source": [
    "Check for missing values:"
   ]
  },
  {
   "cell_type": "code",
   "execution_count": null,
   "metadata": {
    "executionInfo": {
     "elapsed": 3,
     "status": "aborted",
     "timestamp": 1730819272684,
     "user": {
      "displayName": "Chin Wei Min",
      "userId": "17142102749638139201"
     },
     "user_tz": -480
    },
    "id": "VpKmMATvtTmF"
   },
   "outputs": [],
   "source": [
    "data.isnull().sum()"
   ]
  },
  {
   "cell_type": "markdown",
   "metadata": {
    "id": "c7AJt3MPtXxo"
   },
   "source": [
    "Identify unique values in categorical columns:"
   ]
  },
  {
   "cell_type": "code",
   "execution_count": null,
   "metadata": {
    "executionInfo": {
     "elapsed": 0,
     "status": "aborted",
     "timestamp": 1730819272686,
     "user": {
      "displayName": "Chin Wei Min",
      "userId": "17142102749638139201"
     },
     "user_tz": -480
    },
    "id": "QPmmnx9ZtAig"
   },
   "outputs": [],
   "source": [
    "for column in data.select_dtypes(include=['object']).columns:\n",
    "    print(f'{column}: {data[column].nunique()} unique values')"
   ]
  },
  {
   "cell_type": "markdown",
   "metadata": {
    "id": "BTGMoTzYtsny"
   },
   "source": [
    "### Assess Data Quality:"
   ]
  },
  {
   "cell_type": "markdown",
   "metadata": {
    "id": "VJZEBgcOtuw_"
   },
   "source": [
    "Check for duplicate rows:"
   ]
  },
  {
   "cell_type": "code",
   "execution_count": null,
   "metadata": {
    "executionInfo": {
     "elapsed": 824,
     "status": "aborted",
     "timestamp": 1730819272687,
     "user": {
      "displayName": "Chin Wei Min",
      "userId": "17142102749638139201"
     },
     "user_tz": -480
    },
    "id": "wRJoU-WUtrzX"
   },
   "outputs": [],
   "source": [
    "duplicates = data.duplicated().sum()\n",
    "print(f'Number of duplicate rows: {duplicates}')"
   ]
  },
  {
   "cell_type": "markdown",
   "metadata": {
    "id": "KQZHBZI_ZJQk"
   },
   "source": [
    "Print out the unique values based on column."
   ]
  },
  {
   "cell_type": "code",
   "execution_count": null,
   "metadata": {
    "executionInfo": {
     "elapsed": 833,
     "status": "aborted",
     "timestamp": 1730819272698,
     "user": {
      "displayName": "Chin Wei Min",
      "userId": "17142102749638139201"
     },
     "user_tz": -480
    },
    "id": "QgLSLQrFEsw5"
   },
   "outputs": [],
   "source": [
    "# Print unique values in the 'currency' column\n",
    "unique_currencies = data['currency'].unique()\n",
    "print(\"Unique currencies:\", unique_currencies)"
   ]
  },
  {
   "cell_type": "code",
   "execution_count": null,
   "metadata": {
    "executionInfo": {
     "elapsed": 832,
     "status": "aborted",
     "timestamp": 1730819272699,
     "user": {
      "displayName": "Chin Wei Min",
      "userId": "17142102749638139201"
     },
     "user_tz": -480
    },
    "id": "N1-sylgCWe-B"
   },
   "outputs": [],
   "source": [
    "# Print unique values in the 'impact' column\n",
    "unique_impact = data['impact'].unique()\n",
    "print(\"Unique impact:\", unique_impact)"
   ]
  },
  {
   "cell_type": "code",
   "execution_count": null,
   "metadata": {
    "executionInfo": {
     "elapsed": 830,
     "status": "aborted",
     "timestamp": 1730819272700,
     "user": {
      "displayName": "Chin Wei Min",
      "userId": "17142102749638139201"
     },
     "user_tz": -480
    },
    "id": "r-34WcPzWw3U"
   },
   "outputs": [],
   "source": [
    "# Print unique values in the 'actual_unit' column\n",
    "unique_actual_unit = data['actual_unit'].unique()\n",
    "print(\"Unique actual_unit:\", unique_actual_unit, '\\n')\n",
    "\n",
    "# Print unique values in the 'forecast_unit' column\n",
    "unique_forecast_unit = data['forecast_unit'].unique()\n",
    "print(\"Unique forecast_unit:\", unique_forecast_unit, '\\n')\n",
    "\n",
    "# Print unique values in the 'previous_unit' column\n",
    "unique_previous_unit = data['previous_unit'].unique()\n",
    "print(\"Unique previous_unit:\", unique_previous_unit)"
   ]
  },
  {
   "cell_type": "markdown",
   "metadata": {
    "id": "DS9jhpDImrD2"
   },
   "source": [
    "## Dataset 2: XAUUSD History Tick Data"
   ]
  },
  {
   "cell_type": "code",
   "execution_count": 2,
   "metadata": {},
   "outputs": [],
   "source": [
    "import pandas as pd"
   ]
  },
  {
   "cell_type": "code",
   "execution_count": null,
   "metadata": {},
   "outputs": [],
   "source": [
    "# Load the dataset\n",
    "file_path = 'c:\\\\Users\\\\User\\\\OneDrive - Asia Pacific University of Technology And Innovation (APU)\\\\CHIN_WEI_MIN_FYP_DATASET\\\\XAUUSD\\\\2014XAUUSD-TICK-No Session.csv'\n",
    "tick_data = pd.read_csv(file_path)"
   ]
  },
  {
   "cell_type": "code",
   "execution_count": 3,
   "metadata": {},
   "outputs": [],
   "source": [
    "file_path = 'c:\\\\Users\\\\User\\\\OneDrive - Asia Pacific University\\\\CHIN_WEI_MIN_FYP_DATASET\\\\XAUUSD\\\\2013XAUUSD-TICK-No Session.csv'\n",
    "df_2013 = pd.read_csv(file_path)"
   ]
  },
  {
   "cell_type": "code",
   "execution_count": null,
   "metadata": {},
   "outputs": [],
   "source": [
    "# Load the dataset\n",
    "file_path = 'c:\\\\Users\\\\User\\\\OneDrive - Asia Pacific University of Technology And Innovation (APU)\\\\CHIN_WEI_MIN_FYP_DATASET\\\\XAUUSD\\\\2013XAUUSD-TICK-No Session.csv'\n",
    "df_2013 = pd.read_csv(file_path)\n",
    "\n",
    "file_path = 'c:\\\\Users\\\\User\\\\OneDrive - Asia Pacific University of Technology And Innovation (APU)\\\\CHIN_WEI_MIN_FYP_DATASET\\\\XAUUSD\\\\2014XAUUSD-TICK-No Session.csv'\n",
    "df_2014 = pd.read_csv(file_path)\n",
    "\n",
    "# Load the dataset\n",
    "file_path = 'c:\\\\Users\\\\User\\\\OneDrive - Asia Pacific University of Technology And Innovation (APU)\\\\CHIN_WEI_MIN_FYP_DATASET\\\\XAUUSD\\\\2015XAUUSD-TICK-No Session.csv'\n",
    "df_2015 = pd.read_csv(file_path)\n",
    "\n",
    "# Load the dataset\n",
    "file_path = 'c:\\\\Users\\\\User\\\\OneDrive - Asia Pacific University of Technology And Innovation (APU)\\\\CHIN_WEI_MIN_FYP_DATASET\\\\XAUUSD\\\\2016XAUUSD-TICK-No Session.csv'\n",
    "df_2016 = pd.read_csv(file_path)\n",
    "\n",
    "# Load the dataset\n",
    "file_path = 'c:\\\\Users\\\\User\\\\OneDrive - Asia Pacific University of Technology And Innovation (APU)\\\\CHIN_WEI_MIN_FYP_DATASET\\\\XAUUSD\\\\2017XAUUSD-TICK-No Session.csv'\n",
    "df_2017 = pd.read_csv(file_path)\n",
    "\n",
    "# Load the dataset\n",
    "file_path = 'c:\\\\Users\\\\User\\\\OneDrive - Asia Pacific University of Technology And Innovation (APU)\\\\CHIN_WEI_MIN_FYP_DATASET\\\\XAUUSD\\\\2018XAUUSD-TICK-No Session.csv'\n",
    "df_2018 = pd.read_csv(file_path)\n",
    "\n",
    "# Load the dataset\n",
    "file_path = 'c:\\\\Users\\\\User\\\\OneDrive - Asia Pacific University of Technology And Innovation (APU)\\\\CHIN_WEI_MIN_FYP_DATASET\\\\XAUUSD\\\\2019XAUUSD-TICK-No Session.csv'\n",
    "df_2019 = pd.read_csv(file_path)\n",
    "\n",
    "# Load the dataset\n",
    "file_path = 'c:\\\\Users\\\\User\\\\OneDrive - Asia Pacific University of Technology And Innovation (APU)\\\\CHIN_WEI_MIN_FYP_DATASET\\\\XAUUSD\\\\2020XAUUSD-TICK-No Session.csv'\n",
    "df_2020 = pd.read_csv(file_path)\n",
    "\n",
    "# Load the dataset\n",
    "file_path = 'c:\\\\Users\\\\User\\\\OneDrive - Asia Pacific University of Technology And Innovation (APU)\\\\CHIN_WEI_MIN_FYP_DATASET\\\\XAUUSD\\\\2021XAUUSD-TICK-No Session.csv'\n",
    "df_2021 = pd.read_csv(file_path)\n",
    "\n",
    "# Load the dataset\n",
    "file_path = 'c:\\\\Users\\\\User\\\\OneDrive - Asia Pacific University of Technology And Innovation (APU)\\\\CHIN_WEI_MIN_FYP_DATASET\\\\XAUUSD\\\\2022XAUUSD-TICK-No Session.csv'\n",
    "df_2022 = pd.read_csv(file_path)\n",
    "\n",
    "# Load the dataset\n",
    "file_path = 'c:\\\\Users\\\\User\\\\OneDrive - Asia Pacific University of Technology And Innovation (APU)\\\\CHIN_WEI_MIN_FYP_DATASET\\\\XAUUSD\\\\2023XAUUSD-TICK-No Session.csv'\n",
    "df_2023 = pd.read_csv(file_path)\n",
    "\n",
    "# Load the dataset\n",
    "file_path = 'c:\\\\Users\\\\User\\\\OneDrive - Asia Pacific University of Technology And Innovation (APU)\\\\CHIN_WEI_MIN_FYP_DATASET\\\\XAUUSD\\\\2024-09XAUUSD-TICK-No Session.csv'\n",
    "df_2024 = pd.read_csv(file_path)\n"
   ]
  },
  {
   "cell_type": "code",
   "execution_count": null,
   "metadata": {},
   "outputs": [],
   "source": [
    "tick_data.head()"
   ]
  },
  {
   "cell_type": "code",
   "execution_count": null,
   "metadata": {},
   "outputs": [],
   "source": [
    "tick_data.info()"
   ]
  },
  {
   "cell_type": "markdown",
   "metadata": {},
   "source": [
    "### Data Quality"
   ]
  },
  {
   "cell_type": "code",
   "execution_count": null,
   "metadata": {},
   "outputs": [],
   "source": [
    "import warnings\n",
    "\n",
    "# Ignore all warnings\n",
    "warnings.filterwarnings(\"ignore\")"
   ]
  },
  {
   "cell_type": "code",
   "execution_count": null,
   "metadata": {},
   "outputs": [],
   "source": [
    "df_2014.tail()"
   ]
  },
  {
   "cell_type": "code",
   "execution_count": 4,
   "metadata": {},
   "outputs": [],
   "source": [
    "import pandas as pd\n",
    "import numpy as np\n",
    "import matplotlib.pyplot as plt\n",
    "from scipy.stats import zscore\n",
    "\n",
    "# Check for Missing Data and Gaps\n",
    "def check_missing_data(df):\n",
    "    missing_data = df.isnull().sum()\n",
    "    print(\"\\nMissing data per column:\\n\", missing_data)\n",
    "    \n",
    "# Check for Duplicates\n",
    "def check_duplicates(df):\n",
    "    duplicates = df.duplicated(subset=['DateTime']).sum()\n",
    "    print(f\"Number of duplicate timestamps: {duplicates}\")\n",
    "\n",
    "# # 3. Outlier Detection in Bid/Ask Prices\n",
    "# def detect_outliers(df):\n",
    "#     df['mid_price'] = (df['Bid'] + df['Ask']) / 2\n",
    "#     df['z_score'] = zscore(df['mid_price'])\n",
    "#     outliers = df[np.abs(df['z_score']) > 3]\n",
    "#     print(f\"Number of price outliers detected (z-score > 3): {len(outliers)}\")\n",
    "#     plt.figure(figsize=(10, 4))\n",
    "#     plt.plot(df['DateTime'], df['mid_price'], label=\"Mid Price\")\n",
    "#     plt.scatter(outliers['DateTime'], outliers['mid_price'], color='red', label=\"Outliers\")\n",
    "#     plt.title(\"Mid Price with Outliers\")\n",
    "#     plt.xlabel(\"Timestamp\")\n",
    "#     plt.ylabel(\"Mid Price\")\n",
    "#     plt.legend()\n",
    "#     plt.show()\n",
    "\n",
    "# # 4. Bid-Ask Spread Analysis\n",
    "# def analyze_spread(df):\n",
    "#     df['spread'] = df['Ask'] - df['Bid']\n",
    "#     print(\"Spread statistics:\\n\", df['spread'].describe())\n",
    "#     plt.figure(figsize=(10, 4))\n",
    "#     plt.hist(df['spread'].dropna(), bins=100)\n",
    "#     plt.title(\"Distribution of Bid-Ask Spread\")\n",
    "#     plt.xlabel(\"Spread\")\n",
    "#     plt.ylabel(\"Frequency\")\n",
    "#     plt.show()\n",
    "\n",
    "# Check Consistency in Time Intervals\n",
    "def check_time_intervals(df):\n",
    "    # Convert DateTime to datetime type if it's not already\n",
    "    df['DateTime'] = pd.to_datetime(df['DateTime'])\n",
    "    \n",
    "    # Check for gaps in the timestamp\n",
    "    df['time_diff'] = df['DateTime'].diff().dt.total_seconds()\n",
    "\n",
    "    # Define market close time on Friday 21：00 UTC and open time on Sunday 22：00 UTC\n",
    "    df['day_of_week'] = df['DateTime'].dt.dayofweek\n",
    "    df['hour'] = df['DateTime'].dt.hour\n",
    "\n",
    "    # Define conditions for market close (Friday after 21:00 UTC to Sunday before 22:00 UTC)\n",
    "    is_friday_after_close = (df['day_of_week'] == 4) & (df['hour'] >= 21)\n",
    "    is_sunday_before_open = (df['day_of_week'] == 6) & (df['hour'] < 22)\n",
    "\n",
    "    # Create a mask that identifies intervals starting on Friday after 21:00 and continuing until Sunday 22:00\n",
    "    market_close_period = (is_friday_after_close.cumsum() > 0) & (~is_sunday_before_open.cumsum().astype(bool))\n",
    "\n",
    "    # Create a mask to exclude intervals that span the weekend market close\n",
    "    # Gap more than 1hour is irregular\n",
    "    irregular_intervals = (df['time_diff'] > 3600) & ~market_close_period\n",
    "    print(f\"Number of irregular time intervals (excluding market close periods): {irregular_intervals.sum()}\")\n",
    "    \n",
    "    # Plotting time gaps\n",
    "    plt.figure(figsize=(10, 4))\n",
    "    plt.plot(df['DateTime'], df['time_diff'] / 60, label=\"Time Difference (Minutes)\")\n",
    "    plt.title(\"Time Interval Consistency\")\n",
    "    plt.xlabel(\"DateTime\")\n",
    "    plt.ylabel(\"Time Gap (minutes)\")\n",
    "    plt.legend()\n",
    "    plt.show()\n",
    "\n",
    "# Time Series Plot of Bid and Ask Prices\n",
    "def visualize_bid_ask(df):\n",
    "    # Convert DateTime to datetime type if it's not already\n",
    "    df['DateTime'] = pd.to_datetime(df['DateTime'])\n",
    "\n",
    "    # Resample data to hourly frequency, taking the mean of 'Bid' and 'Ask'\n",
    "    hourly_data = df.resample('h', on='DateTime').mean().dropna()\n",
    "\n",
    "    # Plot the downsampled data\n",
    "    plt.figure(figsize=(12, 6))\n",
    "    plt.plot(hourly_data.index, hourly_data['Bid'], label='Bid Price', color='blue', alpha=0.7)\n",
    "    plt.plot(hourly_data.index, hourly_data['Ask'], label='Ask Price', color='orange', alpha=0.7)\n",
    "    plt.xlabel('DateTime')\n",
    "    plt.ylabel('Price (Per Ounce)')\n",
    "    plt.title('Hourly Bid and Ask Prices Over Time')\n",
    "    plt.legend()\n",
    "    plt.xticks(rotation=45)\n",
    "    plt.tight_layout()\n",
    "    plt.show()"
   ]
  },
  {
   "cell_type": "markdown",
   "metadata": {},
   "source": [
    "#### Check Missing Values"
   ]
  },
  {
   "cell_type": "code",
   "execution_count": 5,
   "metadata": {},
   "outputs": [
    {
     "name": "stdout",
     "output_type": "stream",
     "text": [
      "\n",
      "Missing data per column:\n",
      " DateTime    0\n",
      "Bid         0\n",
      "Ask         0\n",
      "Volume      0\n",
      "dtype: int64\n"
     ]
    }
   ],
   "source": [
    "check_missing_data(df_2013)"
   ]
  },
  {
   "cell_type": "code",
   "execution_count": null,
   "metadata": {},
   "outputs": [],
   "source": [
    "check_missing_data(df_2014)"
   ]
  },
  {
   "cell_type": "code",
   "execution_count": null,
   "metadata": {},
   "outputs": [],
   "source": [
    "check_missing_data(df_2015)"
   ]
  },
  {
   "cell_type": "code",
   "execution_count": null,
   "metadata": {},
   "outputs": [],
   "source": [
    "check_missing_data(df_2016)"
   ]
  },
  {
   "cell_type": "code",
   "execution_count": null,
   "metadata": {},
   "outputs": [],
   "source": [
    "check_missing_data(df_2017)"
   ]
  },
  {
   "cell_type": "code",
   "execution_count": null,
   "metadata": {},
   "outputs": [],
   "source": [
    "check_missing_data(df_2018)"
   ]
  },
  {
   "cell_type": "code",
   "execution_count": null,
   "metadata": {},
   "outputs": [],
   "source": [
    "check_missing_data(df_2019)"
   ]
  },
  {
   "cell_type": "code",
   "execution_count": null,
   "metadata": {},
   "outputs": [],
   "source": [
    "check_missing_data(df_2020)"
   ]
  },
  {
   "cell_type": "code",
   "execution_count": null,
   "metadata": {},
   "outputs": [],
   "source": [
    "check_missing_data(df_2021)"
   ]
  },
  {
   "cell_type": "code",
   "execution_count": null,
   "metadata": {},
   "outputs": [],
   "source": [
    "check_missing_data(df_2022)"
   ]
  },
  {
   "cell_type": "code",
   "execution_count": null,
   "metadata": {},
   "outputs": [],
   "source": [
    "check_missing_data(df_2023)"
   ]
  },
  {
   "cell_type": "code",
   "execution_count": null,
   "metadata": {},
   "outputs": [],
   "source": [
    "check_missing_data(df_2024)"
   ]
  },
  {
   "cell_type": "markdown",
   "metadata": {},
   "source": [
    "#### Check Duplicate"
   ]
  },
  {
   "cell_type": "code",
   "execution_count": 6,
   "metadata": {},
   "outputs": [
    {
     "name": "stdout",
     "output_type": "stream",
     "text": [
      "Number of duplicate timestamps: 0\n"
     ]
    }
   ],
   "source": [
    "check_duplicates(df_2013)"
   ]
  },
  {
   "cell_type": "code",
   "execution_count": null,
   "metadata": {},
   "outputs": [],
   "source": [
    "check_duplicates(df_2014)"
   ]
  },
  {
   "cell_type": "code",
   "execution_count": null,
   "metadata": {},
   "outputs": [],
   "source": [
    "check_duplicates(df_2015)"
   ]
  },
  {
   "cell_type": "code",
   "execution_count": null,
   "metadata": {},
   "outputs": [],
   "source": [
    "check_duplicates(df_2016)"
   ]
  },
  {
   "cell_type": "code",
   "execution_count": null,
   "metadata": {},
   "outputs": [],
   "source": [
    "check_duplicates(df_2017)"
   ]
  },
  {
   "cell_type": "code",
   "execution_count": null,
   "metadata": {},
   "outputs": [],
   "source": [
    "check_duplicates(df_2018)"
   ]
  },
  {
   "cell_type": "code",
   "execution_count": null,
   "metadata": {},
   "outputs": [],
   "source": [
    "check_duplicates(df_2019)"
   ]
  },
  {
   "cell_type": "code",
   "execution_count": null,
   "metadata": {},
   "outputs": [],
   "source": [
    "check_duplicates(df_2020)"
   ]
  },
  {
   "cell_type": "code",
   "execution_count": null,
   "metadata": {},
   "outputs": [],
   "source": [
    "check_duplicates(df_2021)"
   ]
  },
  {
   "cell_type": "code",
   "execution_count": null,
   "metadata": {},
   "outputs": [],
   "source": [
    "check_duplicates(df_2022)"
   ]
  },
  {
   "cell_type": "code",
   "execution_count": null,
   "metadata": {},
   "outputs": [],
   "source": [
    "check_duplicates(df_2023)"
   ]
  },
  {
   "cell_type": "code",
   "execution_count": null,
   "metadata": {},
   "outputs": [],
   "source": [
    "check_duplicates(df_2024)"
   ]
  },
  {
   "cell_type": "markdown",
   "metadata": {},
   "source": [
    "#### Check Consistency in Time Intervals"
   ]
  },
  {
   "cell_type": "code",
   "execution_count": 7,
   "metadata": {},
   "outputs": [
    {
     "name": "stdout",
     "output_type": "stream",
     "text": [
      "Number of irregular time intervals (excluding market close periods): 2\n"
     ]
    },
    {
     "data": {
      "image/png": "[encoded data removed]",
      "text/plain": [
       "<Figure size 1000x400 with 1 Axes>"
      ]
     },
     "metadata": {},
     "output_type": "display_data"
    }
   ],
   "source": [
    "check_time_intervals(df_2013)"
   ]
  },
  {
   "cell_type": "code",
   "execution_count": null,
   "metadata": {},
   "outputs": [],
   "source": [
    "check_time_intervals(df_2014)"
   ]
  },
  {
   "cell_type": "code",
   "execution_count": null,
   "metadata": {},
   "outputs": [],
   "source": [
    "check_time_intervals(df_2015)"
   ]
  },
  {
   "cell_type": "code",
   "execution_count": null,
   "metadata": {},
   "outputs": [],
   "source": [
    "check_time_intervals(df_2016)"
   ]
  },
  {
   "cell_type": "code",
   "execution_count": null,
   "metadata": {},
   "outputs": [],
   "source": [
    "check_time_intervals(df_2017)"
   ]
  },
  {
   "cell_type": "code",
   "execution_count": null,
   "metadata": {},
   "outputs": [],
   "source": [
    "check_time_intervals(df_2018)"
   ]
  },
  {
   "cell_type": "code",
   "execution_count": null,
   "metadata": {},
   "outputs": [],
   "source": [
    "check_time_intervals(df_2019)"
   ]
  },
  {
   "cell_type": "code",
   "execution_count": null,
   "metadata": {},
   "outputs": [],
   "source": [
    "check_time_intervals(df_2020)"
   ]
  },
  {
   "cell_type": "code",
   "execution_count": null,
   "metadata": {},
   "outputs": [],
   "source": [
    "check_time_intervals(df_2021)"
   ]
  },
  {
   "cell_type": "code",
   "execution_count": null,
   "metadata": {},
   "outputs": [],
   "source": [
    "check_time_intervals(df_2022)"
   ]
  },
  {
   "cell_type": "code",
   "execution_count": null,
   "metadata": {},
   "outputs": [],
   "source": [
    "check_time_intervals(df_2023)"
   ]
  },
  {
   "cell_type": "code",
   "execution_count": null,
   "metadata": {},
   "outputs": [],
   "source": [
    "check_time_intervals(df_2024)"
   ]
  },
  {
   "cell_type": "markdown",
   "metadata": {},
   "source": [
    "#### Visualize"
   ]
  },
  {
   "cell_type": "code",
   "execution_count": 8,
   "metadata": {},
   "outputs": [
    {
     "data": {
      "image/png": "[encoded data removed]",
      "text/plain": [
       "<Figure size 1200x600 with 1 Axes>"
      ]
     },
     "metadata": {},
     "output_type": "display_data"
    }
   ],
   "source": [
    "visualize_bid_ask(df_2013)"
   ]
  },
  {
   "cell_type": "code",
   "execution_count": null,
   "metadata": {},
   "outputs": [],
   "source": [
    "visualize_bid_ask(df_2014)"
   ]
  },
  {
   "cell_type": "code",
   "execution_count": null,
   "metadata": {},
   "outputs": [],
   "source": [
    "visualize_bid_ask(df_2015)"
   ]
  },
  {
   "cell_type": "code",
   "execution_count": null,
   "metadata": {},
   "outputs": [],
   "source": [
    "visualize_bid_ask(df_2016)"
   ]
  },
  {
   "cell_type": "code",
   "execution_count": null,
   "metadata": {},
   "outputs": [],
   "source": [
    "visualize_bid_ask(df_2017)"
   ]
  },
  {
   "cell_type": "code",
   "execution_count": null,
   "metadata": {},
   "outputs": [],
   "source": [
    "visualize_bid_ask(df_2018)"
   ]
  },
  {
   "cell_type": "code",
   "execution_count": null,
   "metadata": {},
   "outputs": [],
   "source": [
    "visualize_bid_ask(df_2019)"
   ]
  },
  {
   "cell_type": "code",
   "execution_count": null,
   "metadata": {},
   "outputs": [],
   "source": [
    "visualize_bid_ask(df_2020)"
   ]
  },
  {
   "cell_type": "code",
   "execution_count": null,
   "metadata": {},
   "outputs": [],
   "source": [
    "visualize_bid_ask(df_2021)"
   ]
  },
  {
   "cell_type": "code",
   "execution_count": null,
   "metadata": {},
   "outputs": [],
   "source": [
    "visualize_bid_ask(df_2022)"
   ]
  },
  {
   "cell_type": "code",
   "execution_count": null,
   "metadata": {},
   "outputs": [],
   "source": [
    "visualize_bid_ask(df_2023)"
   ]
  },
  {
   "cell_type": "code",
   "execution_count": null,
   "metadata": {},
   "outputs": [],
   "source": [
    "visualize_bid_ask(df_2024)"
   ]
  },
  {
   "cell_type": "code",
   "execution_count": null,
   "metadata": {},
   "outputs": [],
   "source": [
    "import pandas as pd\n",
    "\n",
    "# Load the dataset\n",
    "file_path = 'c:\\Users\\User\\OneDrive - Asia Pacific University of Technology And Innovation (APU)\\CHIN_WEI_MIN_FYP_DATASET\\forexfactory_economic_calendar.csv'\n",
    "forex_calendar  = pd.read_csv(file_path)"
   ]
  },
  {
   "cell_type": "code",
   "execution_count": null,
   "metadata": {},
   "outputs": [],
   "source": [
    "import pandas as pd\n",
    "\n",
    "# Load the clean dataset\n",
    "file_path = 'c:\\\\Users\\\\User\\\\OneDrive - Asia Pacific University of Technology And Innovation (APU)\\\\CHIN_WEI_MIN_FYP_DATASET\\\\cleaned_forex_calendar.csv'\n",
    "forex_calendar  = pd.read_csv(file_path, low_memory=False)"
   ]
  },
  {
   "cell_type": "code",
   "execution_count": null,
   "metadata": {},
   "outputs": [],
   "source": [
    "forex_calendar"
   ]
  },
  {
   "cell_type": "code",
   "execution_count": null,
   "metadata": {},
   "outputs": [],
   "source": [
    "forex_calendar.isnull().sum()"
   ]
  },
  {
   "cell_type": "code",
   "execution_count": null,
   "metadata": {},
   "outputs": [],
   "source": [
    "# Filter data between 2014 and 2024-07\n",
    "forex_calendar = forex_calendar[(forex_calendar['currency'] == 'USD')]"
   ]
  },
  {
   "cell_type": "code",
   "execution_count": null,
   "metadata": {},
   "outputs": [],
   "source": [
    "forex_calendar.head()"
   ]
  },
  {
   "cell_type": "code",
   "execution_count": null,
   "metadata": {},
   "outputs": [],
   "source": [
    "forex_calendar['datetime'] = pd.to_datetime(forex_calendar['datetime'])"
   ]
  },
  {
   "cell_type": "code",
   "execution_count": null,
   "metadata": {},
   "outputs": [],
   "source": [
    "# Filter data between 2014 and 2024-07\n",
    "forex_calendar = forex_calendar[\n",
    "    (forex_calendar['datetime'] >= '2014-01-01') & (forex_calendar['datetime'] <= '2024-07-31')\n",
    "]"
   ]
  },
  {
   "cell_type": "code",
   "execution_count": null,
   "metadata": {},
   "outputs": [],
   "source": [
    "forex_calendar"
   ]
  },
  {
   "cell_type": "code",
   "execution_count": null,
   "metadata": {},
   "outputs": [],
   "source": [
    "# Filter for 'Non-Economic' events and group by 'event'\n",
    "non_economic_events = forex_calendar[forex_calendar['impact'] == 'Non-Economic']\n",
    "grouped_events = non_economic_events.groupby('event').size().reset_index(name='count')\n",
    "\n",
    "grouped_events"
   ]
  },
  {
   "cell_type": "code",
   "execution_count": null,
   "metadata": {},
   "outputs": [],
   "source": [
    "# Filter out rows that contain \"Bank Holiday\" and \"Daylight Saving Time Shift\" events\n",
    "forex_calendar = forex_calendar[~forex_calendar['event'].isin(['Bank Holiday', 'Daylight Saving Time Shift'])]"
   ]
  },
  {
   "cell_type": "code",
   "execution_count": null,
   "metadata": {},
   "outputs": [],
   "source": [
    "forex_calendar[forex_calendar['actual'].isnull()].head()"
   ]
  },
  {
   "cell_type": "code",
   "execution_count": null,
   "metadata": {},
   "outputs": [],
   "source": [
    "# Filter out rows where 'actual' is null\n",
    "forex_calendar = forex_calendar.dropna(subset=['actual'])"
   ]
  },
  {
   "cell_type": "code",
   "execution_count": null,
   "metadata": {},
   "outputs": [],
   "source": [
    "# Convert DateTime to datetime type if it's not already\n",
    "tick_data['DateTime'] = pd.to_datetime(tick_data['DateTime'])\n",
    "\n",
    "# Resample the data to a 1-hour interval, taking the mean of 'Bid' and 'Ask' columns\n",
    "hourly_data = tick_data.resample('H', on='DateTime').mean().dropna()"
   ]
  },
  {
   "cell_type": "code",
   "execution_count": null,
   "metadata": {},
   "outputs": [],
   "source": [
    "hourly_data"
   ]
  },
  {
   "cell_type": "code",
   "execution_count": null,
   "metadata": {},
   "outputs": [],
   "source": [
    "tick_data.head(50)"
   ]
  },
  {
   "cell_type": "markdown",
   "metadata": {},
   "source": [
    "# Data Pre-processing"
   ]
  },
  {
   "cell_type": "markdown",
   "metadata": {},
   "source": [
    "## Forex Factory Economic Calendar"
   ]
  },
  {
   "cell_type": "code",
   "execution_count": 1,
   "metadata": {},
   "outputs": [],
   "source": [
    "import pandas as pd\n",
    "\n",
    "# Load the dataset\n",
    "file_path = 'c:\\\\Users\\\\User\\\\OneDrive - Asia Pacific University of Technology And Innovation (APU)\\\\CHIN_WEI_MIN_FYP_DATASET\\\\forexfactory_economic_calendar.csv'\n",
    "forex_calendar  = pd.read_csv(file_path)"
   ]
  },
  {
   "cell_type": "code",
   "execution_count": null,
   "metadata": {},
   "outputs": [],
   "source": [
    "import pandas as pd\n",
    "\n",
    "# Load the clean dataset\n",
    "file_path = '/content/cleaned_forex_calendar.csv'\n",
    "forex_calendar  = pd.read_csv(file_path)"
   ]
  },
  {
   "cell_type": "code",
   "execution_count": null,
   "metadata": {},
   "outputs": [],
   "source": [
    "forex_calendar"
   ]
  },
  {
   "cell_type": "code",
   "execution_count": null,
   "metadata": {},
   "outputs": [],
   "source": [
    "forex_calendar.isnull().sum()"
   ]
  },
  {
   "cell_type": "markdown",
   "metadata": {},
   "source": [
    "### Filter USD"
   ]
  },
  {
   "cell_type": "code",
   "execution_count": 2,
   "metadata": {},
   "outputs": [],
   "source": [
    "# Filter data between 2014 and 2024-07\n",
    "forex_calendar = forex_calendar[(forex_calendar['currency'] == 'USD')]"
   ]
  },
  {
   "cell_type": "code",
   "execution_count": 3,
   "metadata": {},
   "outputs": [
    {
     "data": {
      "text/html": [
       "<div>\n",
       "<style scoped>\n",
       "    .dataframe tbody tr th:only-of-type {\n",
       "        vertical-align: middle;\n",
       "    }\n",
       "\n",
       "    .dataframe tbody tr th {\n",
       "        vertical-align: top;\n",
       "    }\n",
       "\n",
       "    .dataframe thead th {\n",
       "        text-align: right;\n",
       "    }\n",
       "</style>\n",
       "<table border=\"1\" class=\"dataframe\">\n",
       "  <thead>\n",
       "    <tr style=\"text-align: right;\">\n",
       "      <th></th>\n",
       "      <th>id</th>\n",
       "      <th>datetime</th>\n",
       "      <th>currency</th>\n",
       "      <th>event</th>\n",
       "      <th>impact</th>\n",
       "      <th>actual</th>\n",
       "      <th>actual_unit</th>\n",
       "      <th>forecast</th>\n",
       "      <th>forecast_unit</th>\n",
       "      <th>previous</th>\n",
       "      <th>previous_unit</th>\n",
       "      <th>previous_revised</th>\n",
       "    </tr>\n",
       "  </thead>\n",
       "  <tbody>\n",
       "    <tr>\n",
       "      <th>9</th>\n",
       "      <td>12004</td>\n",
       "      <td>2007-01-01 00:00:00</td>\n",
       "      <td>USD</td>\n",
       "      <td>Bank Holiday</td>\n",
       "      <td>Non-Economic</td>\n",
       "      <td>NaN</td>\n",
       "      <td>NaN</td>\n",
       "      <td>NaN</td>\n",
       "      <td>NaN</td>\n",
       "      <td>NaN</td>\n",
       "      <td>NaN</td>\n",
       "      <td>NaN</td>\n",
       "    </tr>\n",
       "    <tr>\n",
       "      <th>22</th>\n",
       "      <td>3256</td>\n",
       "      <td>2007-01-03 00:00:00</td>\n",
       "      <td>USD</td>\n",
       "      <td>Total Vehicle Sales</td>\n",
       "      <td>Low Impact Expected</td>\n",
       "      <td>16.7</td>\n",
       "      <td>unit_million</td>\n",
       "      <td>16.5</td>\n",
       "      <td>unit_million</td>\n",
       "      <td>16.1</td>\n",
       "      <td>unit_million</td>\n",
       "      <td>False</td>\n",
       "    </tr>\n",
       "    <tr>\n",
       "      <th>28</th>\n",
       "      <td>3238</td>\n",
       "      <td>2007-01-03 13:15:00</td>\n",
       "      <td>USD</td>\n",
       "      <td>ADP Non-Farm Employment Change</td>\n",
       "      <td>Medium Impact Expected</td>\n",
       "      <td>-40.0</td>\n",
       "      <td>unit_thousand</td>\n",
       "      <td>120.0</td>\n",
       "      <td>unit_thousand</td>\n",
       "      <td>230.0</td>\n",
       "      <td>unit_thousand</td>\n",
       "      <td>True</td>\n",
       "    </tr>\n",
       "    <tr>\n",
       "      <th>29</th>\n",
       "      <td>3239</td>\n",
       "      <td>2007-01-03 15:00:00</td>\n",
       "      <td>USD</td>\n",
       "      <td>Construction Spending m/m</td>\n",
       "      <td>Low Impact Expected</td>\n",
       "      <td>-0.2</td>\n",
       "      <td>unit_percentage</td>\n",
       "      <td>-0.6</td>\n",
       "      <td>unit_percentage</td>\n",
       "      <td>-1.0</td>\n",
       "      <td>unit_percentage</td>\n",
       "      <td>False</td>\n",
       "    </tr>\n",
       "    <tr>\n",
       "      <th>30</th>\n",
       "      <td>3236</td>\n",
       "      <td>2007-01-03 15:00:00</td>\n",
       "      <td>USD</td>\n",
       "      <td>ISM Manufacturing PMI</td>\n",
       "      <td>High Impact Expected</td>\n",
       "      <td>51.4</td>\n",
       "      <td>unit_none</td>\n",
       "      <td>51.0</td>\n",
       "      <td>unit_none</td>\n",
       "      <td>49.5</td>\n",
       "      <td>unit_none</td>\n",
       "      <td>False</td>\n",
       "    </tr>\n",
       "  </tbody>\n",
       "</table>\n",
       "</div>"
      ],
      "text/plain": [
       "       id             datetime currency                           event  \\\n",
       "9   12004  2007-01-01 00:00:00      USD                    Bank Holiday   \n",
       "22   3256  2007-01-03 00:00:00      USD             Total Vehicle Sales   \n",
       "28   3238  2007-01-03 13:15:00      USD  ADP Non-Farm Employment Change   \n",
       "29   3239  2007-01-03 15:00:00      USD       Construction Spending m/m   \n",
       "30   3236  2007-01-03 15:00:00      USD           ISM Manufacturing PMI   \n",
       "\n",
       "                    impact  actual      actual_unit  forecast  \\\n",
       "9             Non-Economic     NaN              NaN       NaN   \n",
       "22     Low Impact Expected    16.7     unit_million      16.5   \n",
       "28  Medium Impact Expected   -40.0    unit_thousand     120.0   \n",
       "29     Low Impact Expected    -0.2  unit_percentage      -0.6   \n",
       "30    High Impact Expected    51.4        unit_none      51.0   \n",
       "\n",
       "      forecast_unit  previous    previous_unit previous_revised  \n",
       "9               NaN       NaN              NaN              NaN  \n",
       "22     unit_million      16.1     unit_million            False  \n",
       "28    unit_thousand     230.0    unit_thousand             True  \n",
       "29  unit_percentage      -1.0  unit_percentage            False  \n",
       "30        unit_none      49.5        unit_none            False  "
      ]
     },
     "execution_count": 3,
     "metadata": {},
     "output_type": "execute_result"
    }
   ],
   "source": [
    "forex_calendar.head()"
   ]
  },
  {
   "cell_type": "markdown",
   "metadata": {},
   "source": [
    "### Convert 'datetime'"
   ]
  },
  {
   "cell_type": "code",
   "execution_count": 4,
   "metadata": {},
   "outputs": [],
   "source": [
    "forex_calendar['datetime'] = pd.to_datetime(forex_calendar['datetime'])"
   ]
  },
  {
   "cell_type": "markdown",
   "metadata": {},
   "source": [
    "### Filter between 2013 and 2024-07"
   ]
  },
  {
   "cell_type": "code",
   "execution_count": 5,
   "metadata": {},
   "outputs": [],
   "source": [
    "# Filter data between 2014 and 2024-07\n",
    "forex_calendar = forex_calendar[\n",
    "    (forex_calendar['datetime'] >= '2013-01-01') & (forex_calendar['datetime'] <= '2024-07-31')\n",
    "]"
   ]
  },
  {
   "cell_type": "code",
   "execution_count": 6,
   "metadata": {},
   "outputs": [
    {
     "data": {
      "text/html": [
       "<div>\n",
       "<style scoped>\n",
       "    .dataframe tbody tr th:only-of-type {\n",
       "        vertical-align: middle;\n",
       "    }\n",
       "\n",
       "    .dataframe tbody tr th {\n",
       "        vertical-align: top;\n",
       "    }\n",
       "\n",
       "    .dataframe thead th {\n",
       "        text-align: right;\n",
       "    }\n",
       "</style>\n",
       "<table border=\"1\" class=\"dataframe\">\n",
       "  <thead>\n",
       "    <tr style=\"text-align: right;\">\n",
       "      <th></th>\n",
       "      <th>id</th>\n",
       "      <th>datetime</th>\n",
       "      <th>currency</th>\n",
       "      <th>event</th>\n",
       "      <th>impact</th>\n",
       "      <th>actual</th>\n",
       "      <th>actual_unit</th>\n",
       "      <th>forecast</th>\n",
       "      <th>forecast_unit</th>\n",
       "      <th>previous</th>\n",
       "      <th>previous_unit</th>\n",
       "      <th>previous_revised</th>\n",
       "    </tr>\n",
       "  </thead>\n",
       "  <tbody>\n",
       "    <tr>\n",
       "      <th>26468</th>\n",
       "      <td>48175</td>\n",
       "      <td>2013-01-01 00:00:00</td>\n",
       "      <td>USD</td>\n",
       "      <td>Bank Holiday</td>\n",
       "      <td>Non-Economic</td>\n",
       "      <td>NaN</td>\n",
       "      <td>NaN</td>\n",
       "      <td>NaN</td>\n",
       "      <td>NaN</td>\n",
       "      <td>NaN</td>\n",
       "      <td>NaN</td>\n",
       "      <td>NaN</td>\n",
       "    </tr>\n",
       "    <tr>\n",
       "      <th>26484</th>\n",
       "      <td>46758</td>\n",
       "      <td>2013-01-02 14:00:00</td>\n",
       "      <td>USD</td>\n",
       "      <td>Final Manufacturing PMI</td>\n",
       "      <td>Low Impact Expected</td>\n",
       "      <td>54.00</td>\n",
       "      <td>unit_none</td>\n",
       "      <td>53.20</td>\n",
       "      <td>unit_none</td>\n",
       "      <td>54.20</td>\n",
       "      <td>unit_none</td>\n",
       "      <td>False</td>\n",
       "    </tr>\n",
       "    <tr>\n",
       "      <th>26486</th>\n",
       "      <td>46254</td>\n",
       "      <td>2013-01-02 15:00:00</td>\n",
       "      <td>USD</td>\n",
       "      <td>Construction Spending m/m</td>\n",
       "      <td>Low Impact Expected</td>\n",
       "      <td>-0.30</td>\n",
       "      <td>unit_percentage</td>\n",
       "      <td>0.60</td>\n",
       "      <td>unit_percentage</td>\n",
       "      <td>0.70</td>\n",
       "      <td>unit_percentage</td>\n",
       "      <td>True</td>\n",
       "    </tr>\n",
       "    <tr>\n",
       "      <th>26487</th>\n",
       "      <td>46722</td>\n",
       "      <td>2013-01-02 15:00:00</td>\n",
       "      <td>USD</td>\n",
       "      <td>ISM Manufacturing PMI</td>\n",
       "      <td>High Impact Expected</td>\n",
       "      <td>50.70</td>\n",
       "      <td>unit_none</td>\n",
       "      <td>50.20</td>\n",
       "      <td>unit_none</td>\n",
       "      <td>49.50</td>\n",
       "      <td>unit_none</td>\n",
       "      <td>False</td>\n",
       "    </tr>\n",
       "    <tr>\n",
       "      <th>26488</th>\n",
       "      <td>46734</td>\n",
       "      <td>2013-01-02 15:00:00</td>\n",
       "      <td>USD</td>\n",
       "      <td>ISM Manufacturing Prices</td>\n",
       "      <td>Low Impact Expected</td>\n",
       "      <td>55.50</td>\n",
       "      <td>unit_none</td>\n",
       "      <td>51.40</td>\n",
       "      <td>unit_none</td>\n",
       "      <td>52.50</td>\n",
       "      <td>unit_none</td>\n",
       "      <td>False</td>\n",
       "    </tr>\n",
       "    <tr>\n",
       "      <th>...</th>\n",
       "      <td>...</td>\n",
       "      <td>...</td>\n",
       "      <td>...</td>\n",
       "      <td>...</td>\n",
       "      <td>...</td>\n",
       "      <td>...</td>\n",
       "      <td>...</td>\n",
       "      <td>...</td>\n",
       "      <td>...</td>\n",
       "      <td>...</td>\n",
       "      <td>...</td>\n",
       "      <td>...</td>\n",
       "    </tr>\n",
       "    <tr>\n",
       "      <th>79946</th>\n",
       "      <td>136345</td>\n",
       "      <td>2024-07-26 14:00:00</td>\n",
       "      <td>USD</td>\n",
       "      <td>Revised UoM Inflation Expectations</td>\n",
       "      <td>Low Impact Expected</td>\n",
       "      <td>2.90</td>\n",
       "      <td>unit_percentage</td>\n",
       "      <td>NaN</td>\n",
       "      <td>NaN</td>\n",
       "      <td>2.90</td>\n",
       "      <td>unit_percentage</td>\n",
       "      <td>False</td>\n",
       "    </tr>\n",
       "    <tr>\n",
       "      <th>79965</th>\n",
       "      <td>136258</td>\n",
       "      <td>2024-07-30 13:00:00</td>\n",
       "      <td>USD</td>\n",
       "      <td>HPI m/m</td>\n",
       "      <td>Low Impact Expected</td>\n",
       "      <td>0.00</td>\n",
       "      <td>unit_percentage</td>\n",
       "      <td>0.20</td>\n",
       "      <td>unit_percentage</td>\n",
       "      <td>0.30</td>\n",
       "      <td>unit_percentage</td>\n",
       "      <td>True</td>\n",
       "    </tr>\n",
       "    <tr>\n",
       "      <th>79966</th>\n",
       "      <td>136246</td>\n",
       "      <td>2024-07-30 13:00:00</td>\n",
       "      <td>USD</td>\n",
       "      <td>S&amp;P/CS Composite-20 HPI y/y</td>\n",
       "      <td>Medium Impact Expected</td>\n",
       "      <td>6.80</td>\n",
       "      <td>unit_percentage</td>\n",
       "      <td>6.50</td>\n",
       "      <td>unit_percentage</td>\n",
       "      <td>7.30</td>\n",
       "      <td>unit_percentage</td>\n",
       "      <td>True</td>\n",
       "    </tr>\n",
       "    <tr>\n",
       "      <th>79967</th>\n",
       "      <td>137307</td>\n",
       "      <td>2024-07-30 14:00:00</td>\n",
       "      <td>USD</td>\n",
       "      <td>CB Consumer Confidence</td>\n",
       "      <td>High Impact Expected</td>\n",
       "      <td>100.30</td>\n",
       "      <td>unit_none</td>\n",
       "      <td>99.70</td>\n",
       "      <td>unit_none</td>\n",
       "      <td>97.80</td>\n",
       "      <td>unit_none</td>\n",
       "      <td>True</td>\n",
       "    </tr>\n",
       "    <tr>\n",
       "      <th>79968</th>\n",
       "      <td>138643</td>\n",
       "      <td>2024-07-30 14:00:00</td>\n",
       "      <td>USD</td>\n",
       "      <td>JOLTS Job Openings</td>\n",
       "      <td>High Impact Expected</td>\n",
       "      <td>8.18</td>\n",
       "      <td>unit_million</td>\n",
       "      <td>8.02</td>\n",
       "      <td>unit_million</td>\n",
       "      <td>8.23</td>\n",
       "      <td>unit_million</td>\n",
       "      <td>True</td>\n",
       "    </tr>\n",
       "  </tbody>\n",
       "</table>\n",
       "<p>13781 rows × 12 columns</p>\n",
       "</div>"
      ],
      "text/plain": [
       "           id            datetime currency  \\\n",
       "26468   48175 2013-01-01 00:00:00      USD   \n",
       "26484   46758 2013-01-02 14:00:00      USD   \n",
       "26486   46254 2013-01-02 15:00:00      USD   \n",
       "26487   46722 2013-01-02 15:00:00      USD   \n",
       "26488   46734 2013-01-02 15:00:00      USD   \n",
       "...       ...                 ...      ...   \n",
       "79946  136345 2024-07-26 14:00:00      USD   \n",
       "79965  136258 2024-07-30 13:00:00      USD   \n",
       "79966  136246 2024-07-30 13:00:00      USD   \n",
       "79967  137307 2024-07-30 14:00:00      USD   \n",
       "79968  138643 2024-07-30 14:00:00      USD   \n",
       "\n",
       "                                    event                  impact  actual  \\\n",
       "26468                        Bank Holiday            Non-Economic     NaN   \n",
       "26484             Final Manufacturing PMI     Low Impact Expected   54.00   \n",
       "26486           Construction Spending m/m     Low Impact Expected   -0.30   \n",
       "26487               ISM Manufacturing PMI    High Impact Expected   50.70   \n",
       "26488            ISM Manufacturing Prices     Low Impact Expected   55.50   \n",
       "...                                   ...                     ...     ...   \n",
       "79946  Revised UoM Inflation Expectations     Low Impact Expected    2.90   \n",
       "79965                             HPI m/m     Low Impact Expected    0.00   \n",
       "79966         S&P/CS Composite-20 HPI y/y  Medium Impact Expected    6.80   \n",
       "79967              CB Consumer Confidence    High Impact Expected  100.30   \n",
       "79968                  JOLTS Job Openings    High Impact Expected    8.18   \n",
       "\n",
       "           actual_unit  forecast    forecast_unit  previous    previous_unit  \\\n",
       "26468              NaN       NaN              NaN       NaN              NaN   \n",
       "26484        unit_none     53.20        unit_none     54.20        unit_none   \n",
       "26486  unit_percentage      0.60  unit_percentage      0.70  unit_percentage   \n",
       "26487        unit_none     50.20        unit_none     49.50        unit_none   \n",
       "26488        unit_none     51.40        unit_none     52.50        unit_none   \n",
       "...                ...       ...              ...       ...              ...   \n",
       "79946  unit_percentage       NaN              NaN      2.90  unit_percentage   \n",
       "79965  unit_percentage      0.20  unit_percentage      0.30  unit_percentage   \n",
       "79966  unit_percentage      6.50  unit_percentage      7.30  unit_percentage   \n",
       "79967        unit_none     99.70        unit_none     97.80        unit_none   \n",
       "79968     unit_million      8.02     unit_million      8.23     unit_million   \n",
       "\n",
       "      previous_revised  \n",
       "26468              NaN  \n",
       "26484            False  \n",
       "26486             True  \n",
       "26487            False  \n",
       "26488            False  \n",
       "...                ...  \n",
       "79946            False  \n",
       "79965             True  \n",
       "79966             True  \n",
       "79967             True  \n",
       "79968             True  \n",
       "\n",
       "[13781 rows x 12 columns]"
      ]
     },
     "execution_count": 6,
     "metadata": {},
     "output_type": "execute_result"
    }
   ],
   "source": [
    "forex_calendar"
   ]
  },
  {
   "cell_type": "markdown",
   "metadata": {},
   "source": [
    "### Filter out 'Non-Economic' Event"
   ]
  },
  {
   "cell_type": "code",
   "execution_count": 7,
   "metadata": {},
   "outputs": [
    {
     "data": {
      "text/html": [
       "<div>\n",
       "<style scoped>\n",
       "    .dataframe tbody tr th:only-of-type {\n",
       "        vertical-align: middle;\n",
       "    }\n",
       "\n",
       "    .dataframe tbody tr th {\n",
       "        vertical-align: top;\n",
       "    }\n",
       "\n",
       "    .dataframe thead th {\n",
       "        text-align: right;\n",
       "    }\n",
       "</style>\n",
       "<table border=\"1\" class=\"dataframe\">\n",
       "  <thead>\n",
       "    <tr style=\"text-align: right;\">\n",
       "      <th></th>\n",
       "      <th>event</th>\n",
       "      <th>count</th>\n",
       "    </tr>\n",
       "  </thead>\n",
       "  <tbody>\n",
       "    <tr>\n",
       "      <th>0</th>\n",
       "      <td>Bank Holiday</td>\n",
       "      <td>116</td>\n",
       "    </tr>\n",
       "    <tr>\n",
       "      <th>1</th>\n",
       "      <td>Daylight Saving Time Shift</td>\n",
       "      <td>23</td>\n",
       "    </tr>\n",
       "  </tbody>\n",
       "</table>\n",
       "</div>"
      ],
      "text/plain": [
       "                        event  count\n",
       "0                Bank Holiday    116\n",
       "1  Daylight Saving Time Shift     23"
      ]
     },
     "execution_count": 7,
     "metadata": {},
     "output_type": "execute_result"
    }
   ],
   "source": [
    "# Filter for 'Non-Economic' events and group by 'event'\n",
    "non_economic_events = forex_calendar[forex_calendar['impact'] == 'Non-Economic']\n",
    "grouped_events = non_economic_events.groupby('event').size().reset_index(name='count')\n",
    "\n",
    "grouped_events"
   ]
  },
  {
   "cell_type": "code",
   "execution_count": 8,
   "metadata": {},
   "outputs": [],
   "source": [
    "# Filter out rows that contain \"Bank Holiday\" and \"Daylight Saving Time Shift\" events\n",
    "forex_calendar = forex_calendar[~forex_calendar['event'].isin(['Bank Holiday', 'Daylight Saving Time Shift'])]"
   ]
  },
  {
   "cell_type": "markdown",
   "metadata": {},
   "source": [
    "### Filter out rows where 'actual' is null"
   ]
  },
  {
   "cell_type": "code",
   "execution_count": 9,
   "metadata": {},
   "outputs": [
    {
     "data": {
      "text/html": [
       "<div>\n",
       "<style scoped>\n",
       "    .dataframe tbody tr th:only-of-type {\n",
       "        vertical-align: middle;\n",
       "    }\n",
       "\n",
       "    .dataframe tbody tr th {\n",
       "        vertical-align: top;\n",
       "    }\n",
       "\n",
       "    .dataframe thead th {\n",
       "        text-align: right;\n",
       "    }\n",
       "</style>\n",
       "<table border=\"1\" class=\"dataframe\">\n",
       "  <thead>\n",
       "    <tr style=\"text-align: right;\">\n",
       "      <th></th>\n",
       "      <th>id</th>\n",
       "      <th>datetime</th>\n",
       "      <th>currency</th>\n",
       "      <th>event</th>\n",
       "      <th>impact</th>\n",
       "      <th>actual</th>\n",
       "      <th>actual_unit</th>\n",
       "      <th>forecast</th>\n",
       "      <th>forecast_unit</th>\n",
       "      <th>previous</th>\n",
       "      <th>previous_unit</th>\n",
       "      <th>previous_revised</th>\n",
       "    </tr>\n",
       "  </thead>\n",
       "  <tbody>\n",
       "    <tr>\n",
       "      <th>26506</th>\n",
       "      <td>44195</td>\n",
       "      <td>2013-01-03 19:00:00</td>\n",
       "      <td>USD</td>\n",
       "      <td>FOMC Meeting Minutes</td>\n",
       "      <td>High Impact Expected</td>\n",
       "      <td>NaN</td>\n",
       "      <td>NaN</td>\n",
       "      <td>NaN</td>\n",
       "      <td>NaN</td>\n",
       "      <td>NaN</td>\n",
       "      <td>NaN</td>\n",
       "      <td>NaN</td>\n",
       "    </tr>\n",
       "    <tr>\n",
       "      <th>26532</th>\n",
       "      <td>48119</td>\n",
       "      <td>2013-01-04 20:30:00</td>\n",
       "      <td>USD</td>\n",
       "      <td>FOMC Member Yellen Speaks</td>\n",
       "      <td>Medium Impact Expected</td>\n",
       "      <td>NaN</td>\n",
       "      <td>NaN</td>\n",
       "      <td>NaN</td>\n",
       "      <td>NaN</td>\n",
       "      <td>NaN</td>\n",
       "      <td>NaN</td>\n",
       "      <td>NaN</td>\n",
       "    </tr>\n",
       "    <tr>\n",
       "      <th>26533</th>\n",
       "      <td>48325</td>\n",
       "      <td>2013-01-05 15:15:00</td>\n",
       "      <td>USD</td>\n",
       "      <td>FOMC Member Yellen Speaks</td>\n",
       "      <td>Low Impact Expected</td>\n",
       "      <td>NaN</td>\n",
       "      <td>NaN</td>\n",
       "      <td>NaN</td>\n",
       "      <td>NaN</td>\n",
       "      <td>NaN</td>\n",
       "      <td>NaN</td>\n",
       "      <td>NaN</td>\n",
       "    </tr>\n",
       "    <tr>\n",
       "      <th>26563</th>\n",
       "      <td>47671</td>\n",
       "      <td>2013-01-09 18:00:00</td>\n",
       "      <td>USD</td>\n",
       "      <td>10-y Bond Auction</td>\n",
       "      <td>Medium Impact Expected</td>\n",
       "      <td>NaN</td>\n",
       "      <td>unit_none</td>\n",
       "      <td>NaN</td>\n",
       "      <td>NaN</td>\n",
       "      <td>NaN</td>\n",
       "      <td>unit_none</td>\n",
       "      <td>False</td>\n",
       "    </tr>\n",
       "    <tr>\n",
       "      <th>26584</th>\n",
       "      <td>47707</td>\n",
       "      <td>2013-01-10 18:00:00</td>\n",
       "      <td>USD</td>\n",
       "      <td>30-y Bond Auction</td>\n",
       "      <td>Low Impact Expected</td>\n",
       "      <td>NaN</td>\n",
       "      <td>unit_none</td>\n",
       "      <td>NaN</td>\n",
       "      <td>NaN</td>\n",
       "      <td>NaN</td>\n",
       "      <td>unit_none</td>\n",
       "      <td>False</td>\n",
       "    </tr>\n",
       "  </tbody>\n",
       "</table>\n",
       "</div>"
      ],
      "text/plain": [
       "          id            datetime currency                      event  \\\n",
       "26506  44195 2013-01-03 19:00:00      USD       FOMC Meeting Minutes   \n",
       "26532  48119 2013-01-04 20:30:00      USD  FOMC Member Yellen Speaks   \n",
       "26533  48325 2013-01-05 15:15:00      USD  FOMC Member Yellen Speaks   \n",
       "26563  47671 2013-01-09 18:00:00      USD          10-y Bond Auction   \n",
       "26584  47707 2013-01-10 18:00:00      USD          30-y Bond Auction   \n",
       "\n",
       "                       impact  actual actual_unit  forecast forecast_unit  \\\n",
       "26506    High Impact Expected     NaN         NaN       NaN           NaN   \n",
       "26532  Medium Impact Expected     NaN         NaN       NaN           NaN   \n",
       "26533     Low Impact Expected     NaN         NaN       NaN           NaN   \n",
       "26563  Medium Impact Expected     NaN   unit_none       NaN           NaN   \n",
       "26584     Low Impact Expected     NaN   unit_none       NaN           NaN   \n",
       "\n",
       "       previous previous_unit previous_revised  \n",
       "26506       NaN           NaN              NaN  \n",
       "26532       NaN           NaN              NaN  \n",
       "26533       NaN           NaN              NaN  \n",
       "26563       NaN     unit_none            False  \n",
       "26584       NaN     unit_none            False  "
      ]
     },
     "execution_count": 9,
     "metadata": {},
     "output_type": "execute_result"
    }
   ],
   "source": [
    "forex_calendar[forex_calendar['actual'].isnull()].head()"
   ]
  },
  {
   "cell_type": "code",
   "execution_count": 10,
   "metadata": {},
   "outputs": [],
   "source": [
    "# Filter out rows where 'actual' is null\n",
    "forex_calendar = forex_calendar.dropna(subset=['actual'])"
   ]
  },
  {
   "cell_type": "markdown",
   "metadata": {},
   "source": [
    "### Standardize the Units"
   ]
  },
  {
   "cell_type": "code",
   "execution_count": 11,
   "metadata": {},
   "outputs": [
    {
     "data": {
      "text/html": [
       "<div>\n",
       "<style scoped>\n",
       "    .dataframe tbody tr th:only-of-type {\n",
       "        vertical-align: middle;\n",
       "    }\n",
       "\n",
       "    .dataframe tbody tr th {\n",
       "        vertical-align: top;\n",
       "    }\n",
       "\n",
       "    .dataframe thead th {\n",
       "        text-align: right;\n",
       "    }\n",
       "</style>\n",
       "<table border=\"1\" class=\"dataframe\">\n",
       "  <thead>\n",
       "    <tr style=\"text-align: right;\">\n",
       "      <th></th>\n",
       "      <th>actual_unit</th>\n",
       "      <th>forecast_unit</th>\n",
       "      <th>previous_unit</th>\n",
       "      <th>units_match</th>\n",
       "    </tr>\n",
       "  </thead>\n",
       "  <tbody>\n",
       "  </tbody>\n",
       "</table>\n",
       "</div>"
      ],
      "text/plain": [
       "Empty DataFrame\n",
       "Columns: [actual_unit, forecast_unit, previous_unit, units_match]\n",
       "Index: []"
      ]
     },
     "execution_count": 11,
     "metadata": {},
     "output_type": "execute_result"
    }
   ],
   "source": [
    "# Check if each row of 'actual_unit', 'forecast_unit', and 'previous_unit' is the same\n",
    "forex_calendar['units_match'] = forex_calendar.apply(\n",
    "    lambda row: (\n",
    "        row['actual_unit'] == row['forecast_unit'] or pd.isnull(row['forecast_unit'])\n",
    "    ) and (\n",
    "        row['actual_unit'] == row['previous_unit'] or pd.isnull(row['previous_unit'])\n",
    "    ), axis=1\n",
    ")\n",
    "\n",
    "\n",
    "# Display rows where units do not match\n",
    "mismatched_units = forex_calendar[~forex_calendar['units_match']]\n",
    "\n",
    "# Display the results\n",
    "mismatched_units[['actual_unit', 'forecast_unit', 'previous_unit', 'units_match']]"
   ]
  },
  {
   "cell_type": "code",
   "execution_count": 12,
   "metadata": {},
   "outputs": [],
   "source": [
    "forex_calendar = forex_calendar.drop(columns=['units_match'])"
   ]
  },
  {
   "cell_type": "markdown",
   "metadata": {},
   "source": [
    "The result shows that all rows in the sample data have matching units across actual_unit, forecast_unit, and previous_unit. There are no rows where the units are different."
   ]
  },
  {
   "cell_type": "code",
   "execution_count": 13,
   "metadata": {},
   "outputs": [],
   "source": [
    "# Function to standardize values based on 'unit' column\n",
    "def standardize_value(value, unit):\n",
    "    if pd.isna(value):\n",
    "        return value\n",
    "    if unit == 'unit_thousand':\n",
    "        return value * 1_000\n",
    "    elif unit == 'unit_million':\n",
    "        return value * 1_000_000\n",
    "    elif unit == 'unit_billion':\n",
    "        return value * 1_000_000_000\n",
    "    elif unit == 'unit_trillion':\n",
    "        return value * 1_000_000_000_000\n",
    "    elif unit == 'unit_percentage':\n",
    "        return value / 100  # percentage should be converted to a decimal (e.g., 1% -> 0.01)\n",
    "    elif unit == 'unit_none':\n",
    "        return value  # No conversion needed\n",
    "    return value"
   ]
  },
  {
   "cell_type": "code",
   "execution_count": 14,
   "metadata": {},
   "outputs": [
    {
     "data": {
      "text/html": [
       "<div>\n",
       "<style scoped>\n",
       "    .dataframe tbody tr th:only-of-type {\n",
       "        vertical-align: middle;\n",
       "    }\n",
       "\n",
       "    .dataframe tbody tr th {\n",
       "        vertical-align: top;\n",
       "    }\n",
       "\n",
       "    .dataframe thead th {\n",
       "        text-align: right;\n",
       "    }\n",
       "</style>\n",
       "<table border=\"1\" class=\"dataframe\">\n",
       "  <thead>\n",
       "    <tr style=\"text-align: right;\">\n",
       "      <th></th>\n",
       "      <th>id</th>\n",
       "      <th>datetime</th>\n",
       "      <th>currency</th>\n",
       "      <th>event</th>\n",
       "      <th>impact</th>\n",
       "      <th>actual</th>\n",
       "      <th>actual_unit</th>\n",
       "      <th>forecast</th>\n",
       "      <th>forecast_unit</th>\n",
       "      <th>previous</th>\n",
       "      <th>previous_unit</th>\n",
       "      <th>previous_revised</th>\n",
       "    </tr>\n",
       "  </thead>\n",
       "  <tbody>\n",
       "    <tr>\n",
       "      <th>26484</th>\n",
       "      <td>46758</td>\n",
       "      <td>2013-01-02 14:00:00</td>\n",
       "      <td>USD</td>\n",
       "      <td>Final Manufacturing PMI</td>\n",
       "      <td>Low Impact Expected</td>\n",
       "      <td>5.400000e+01</td>\n",
       "      <td>unit_none</td>\n",
       "      <td>5.320000e+01</td>\n",
       "      <td>unit_none</td>\n",
       "      <td>5.420000e+01</td>\n",
       "      <td>unit_none</td>\n",
       "      <td>False</td>\n",
       "    </tr>\n",
       "    <tr>\n",
       "      <th>26486</th>\n",
       "      <td>46254</td>\n",
       "      <td>2013-01-02 15:00:00</td>\n",
       "      <td>USD</td>\n",
       "      <td>Construction Spending m/m</td>\n",
       "      <td>Low Impact Expected</td>\n",
       "      <td>-3.000000e-03</td>\n",
       "      <td>unit_percentage</td>\n",
       "      <td>6.000000e-03</td>\n",
       "      <td>unit_percentage</td>\n",
       "      <td>7.000000e-03</td>\n",
       "      <td>unit_percentage</td>\n",
       "      <td>True</td>\n",
       "    </tr>\n",
       "    <tr>\n",
       "      <th>26487</th>\n",
       "      <td>46722</td>\n",
       "      <td>2013-01-02 15:00:00</td>\n",
       "      <td>USD</td>\n",
       "      <td>ISM Manufacturing PMI</td>\n",
       "      <td>High Impact Expected</td>\n",
       "      <td>5.070000e+01</td>\n",
       "      <td>unit_none</td>\n",
       "      <td>5.020000e+01</td>\n",
       "      <td>unit_none</td>\n",
       "      <td>4.950000e+01</td>\n",
       "      <td>unit_none</td>\n",
       "      <td>False</td>\n",
       "    </tr>\n",
       "    <tr>\n",
       "      <th>26488</th>\n",
       "      <td>46734</td>\n",
       "      <td>2013-01-02 15:00:00</td>\n",
       "      <td>USD</td>\n",
       "      <td>ISM Manufacturing Prices</td>\n",
       "      <td>Low Impact Expected</td>\n",
       "      <td>5.550000e+01</td>\n",
       "      <td>unit_none</td>\n",
       "      <td>5.140000e+01</td>\n",
       "      <td>unit_none</td>\n",
       "      <td>5.250000e+01</td>\n",
       "      <td>unit_none</td>\n",
       "      <td>False</td>\n",
       "    </tr>\n",
       "    <tr>\n",
       "      <th>26491</th>\n",
       "      <td>46456</td>\n",
       "      <td>2013-01-03 00:00:00</td>\n",
       "      <td>USD</td>\n",
       "      <td>Total Vehicle Sales</td>\n",
       "      <td>Low Impact Expected</td>\n",
       "      <td>1.540000e+07</td>\n",
       "      <td>unit_million</td>\n",
       "      <td>1.530000e+07</td>\n",
       "      <td>unit_million</td>\n",
       "      <td>1.550000e+07</td>\n",
       "      <td>unit_million</td>\n",
       "      <td>False</td>\n",
       "    </tr>\n",
       "  </tbody>\n",
       "</table>\n",
       "</div>"
      ],
      "text/plain": [
       "          id            datetime currency                      event  \\\n",
       "26484  46758 2013-01-02 14:00:00      USD    Final Manufacturing PMI   \n",
       "26486  46254 2013-01-02 15:00:00      USD  Construction Spending m/m   \n",
       "26487  46722 2013-01-02 15:00:00      USD      ISM Manufacturing PMI   \n",
       "26488  46734 2013-01-02 15:00:00      USD   ISM Manufacturing Prices   \n",
       "26491  46456 2013-01-03 00:00:00      USD        Total Vehicle Sales   \n",
       "\n",
       "                     impact        actual      actual_unit      forecast  \\\n",
       "26484   Low Impact Expected  5.400000e+01        unit_none  5.320000e+01   \n",
       "26486   Low Impact Expected -3.000000e-03  unit_percentage  6.000000e-03   \n",
       "26487  High Impact Expected  5.070000e+01        unit_none  5.020000e+01   \n",
       "26488   Low Impact Expected  5.550000e+01        unit_none  5.140000e+01   \n",
       "26491   Low Impact Expected  1.540000e+07     unit_million  1.530000e+07   \n",
       "\n",
       "         forecast_unit      previous    previous_unit previous_revised  \n",
       "26484        unit_none  5.420000e+01        unit_none            False  \n",
       "26486  unit_percentage  7.000000e-03  unit_percentage             True  \n",
       "26487        unit_none  4.950000e+01        unit_none            False  \n",
       "26488        unit_none  5.250000e+01        unit_none            False  \n",
       "26491     unit_million  1.550000e+07     unit_million            False  "
      ]
     },
     "execution_count": 14,
     "metadata": {},
     "output_type": "execute_result"
    }
   ],
   "source": [
    "# Apply the standardization function to actual, forecast, and previous columns\n",
    "forex_calendar['actual'] = forex_calendar.apply(lambda row: standardize_value(row['actual'], row['actual_unit']), axis=1)\n",
    "forex_calendar['forecast'] = forex_calendar.apply(lambda row: standardize_value(row['forecast'], row['forecast_unit']), axis=1)\n",
    "forex_calendar['previous'] = forex_calendar.apply(lambda row: standardize_value(row['previous'], row['previous_unit']), axis=1)\n",
    "\n",
    "# Display the result\n",
    "forex_calendar.head()"
   ]
  },
  {
   "cell_type": "code",
   "execution_count": 15,
   "metadata": {},
   "outputs": [
    {
     "data": {
      "text/html": [
       "<div>\n",
       "<style scoped>\n",
       "    .dataframe tbody tr th:only-of-type {\n",
       "        vertical-align: middle;\n",
       "    }\n",
       "\n",
       "    .dataframe tbody tr th {\n",
       "        vertical-align: top;\n",
       "    }\n",
       "\n",
       "    .dataframe thead th {\n",
       "        text-align: right;\n",
       "    }\n",
       "</style>\n",
       "<table border=\"1\" class=\"dataframe\">\n",
       "  <thead>\n",
       "    <tr style=\"text-align: right;\">\n",
       "      <th></th>\n",
       "      <th>id</th>\n",
       "      <th>datetime</th>\n",
       "      <th>currency</th>\n",
       "      <th>event</th>\n",
       "      <th>impact</th>\n",
       "      <th>actual</th>\n",
       "      <th>forecast</th>\n",
       "      <th>previous</th>\n",
       "      <th>previous_revised</th>\n",
       "    </tr>\n",
       "  </thead>\n",
       "  <tbody>\n",
       "    <tr>\n",
       "      <th>26484</th>\n",
       "      <td>46758</td>\n",
       "      <td>2013-01-02 14:00:00</td>\n",
       "      <td>USD</td>\n",
       "      <td>Final Manufacturing PMI</td>\n",
       "      <td>Low Impact Expected</td>\n",
       "      <td>5.400000e+01</td>\n",
       "      <td>5.320000e+01</td>\n",
       "      <td>5.420000e+01</td>\n",
       "      <td>False</td>\n",
       "    </tr>\n",
       "    <tr>\n",
       "      <th>26486</th>\n",
       "      <td>46254</td>\n",
       "      <td>2013-01-02 15:00:00</td>\n",
       "      <td>USD</td>\n",
       "      <td>Construction Spending m/m</td>\n",
       "      <td>Low Impact Expected</td>\n",
       "      <td>-3.000000e-03</td>\n",
       "      <td>6.000000e-03</td>\n",
       "      <td>7.000000e-03</td>\n",
       "      <td>True</td>\n",
       "    </tr>\n",
       "    <tr>\n",
       "      <th>26487</th>\n",
       "      <td>46722</td>\n",
       "      <td>2013-01-02 15:00:00</td>\n",
       "      <td>USD</td>\n",
       "      <td>ISM Manufacturing PMI</td>\n",
       "      <td>High Impact Expected</td>\n",
       "      <td>5.070000e+01</td>\n",
       "      <td>5.020000e+01</td>\n",
       "      <td>4.950000e+01</td>\n",
       "      <td>False</td>\n",
       "    </tr>\n",
       "    <tr>\n",
       "      <th>26488</th>\n",
       "      <td>46734</td>\n",
       "      <td>2013-01-02 15:00:00</td>\n",
       "      <td>USD</td>\n",
       "      <td>ISM Manufacturing Prices</td>\n",
       "      <td>Low Impact Expected</td>\n",
       "      <td>5.550000e+01</td>\n",
       "      <td>5.140000e+01</td>\n",
       "      <td>5.250000e+01</td>\n",
       "      <td>False</td>\n",
       "    </tr>\n",
       "    <tr>\n",
       "      <th>26491</th>\n",
       "      <td>46456</td>\n",
       "      <td>2013-01-03 00:00:00</td>\n",
       "      <td>USD</td>\n",
       "      <td>Total Vehicle Sales</td>\n",
       "      <td>Low Impact Expected</td>\n",
       "      <td>1.540000e+07</td>\n",
       "      <td>1.530000e+07</td>\n",
       "      <td>1.550000e+07</td>\n",
       "      <td>False</td>\n",
       "    </tr>\n",
       "  </tbody>\n",
       "</table>\n",
       "</div>"
      ],
      "text/plain": [
       "          id            datetime currency                      event  \\\n",
       "26484  46758 2013-01-02 14:00:00      USD    Final Manufacturing PMI   \n",
       "26486  46254 2013-01-02 15:00:00      USD  Construction Spending m/m   \n",
       "26487  46722 2013-01-02 15:00:00      USD      ISM Manufacturing PMI   \n",
       "26488  46734 2013-01-02 15:00:00      USD   ISM Manufacturing Prices   \n",
       "26491  46456 2013-01-03 00:00:00      USD        Total Vehicle Sales   \n",
       "\n",
       "                     impact        actual      forecast      previous  \\\n",
       "26484   Low Impact Expected  5.400000e+01  5.320000e+01  5.420000e+01   \n",
       "26486   Low Impact Expected -3.000000e-03  6.000000e-03  7.000000e-03   \n",
       "26487  High Impact Expected  5.070000e+01  5.020000e+01  4.950000e+01   \n",
       "26488   Low Impact Expected  5.550000e+01  5.140000e+01  5.250000e+01   \n",
       "26491   Low Impact Expected  1.540000e+07  1.530000e+07  1.550000e+07   \n",
       "\n",
       "      previous_revised  \n",
       "26484            False  \n",
       "26486             True  \n",
       "26487            False  \n",
       "26488            False  \n",
       "26491            False  "
      ]
     },
     "execution_count": 15,
     "metadata": {},
     "output_type": "execute_result"
    }
   ],
   "source": [
    "# Drop the unit columns\n",
    "forex_calendar = forex_calendar.drop(columns=['actual_unit', 'forecast_unit', 'previous_unit'])\n",
    "\n",
    "# Display the result\n",
    "forex_calendar.head()"
   ]
  },
  {
   "cell_type": "markdown",
   "metadata": {},
   "source": [
    "### Drop 'id' and 'currency' column"
   ]
  },
  {
   "cell_type": "code",
   "execution_count": 16,
   "metadata": {},
   "outputs": [
    {
     "data": {
      "text/html": [
       "<div>\n",
       "<style scoped>\n",
       "    .dataframe tbody tr th:only-of-type {\n",
       "        vertical-align: middle;\n",
       "    }\n",
       "\n",
       "    .dataframe tbody tr th {\n",
       "        vertical-align: top;\n",
       "    }\n",
       "\n",
       "    .dataframe thead th {\n",
       "        text-align: right;\n",
       "    }\n",
       "</style>\n",
       "<table border=\"1\" class=\"dataframe\">\n",
       "  <thead>\n",
       "    <tr style=\"text-align: right;\">\n",
       "      <th></th>\n",
       "      <th>datetime</th>\n",
       "      <th>currency</th>\n",
       "      <th>event</th>\n",
       "      <th>impact</th>\n",
       "      <th>actual</th>\n",
       "      <th>forecast</th>\n",
       "      <th>previous</th>\n",
       "      <th>previous_revised</th>\n",
       "    </tr>\n",
       "  </thead>\n",
       "  <tbody>\n",
       "    <tr>\n",
       "      <th>26484</th>\n",
       "      <td>2013-01-02 14:00:00</td>\n",
       "      <td>USD</td>\n",
       "      <td>Final Manufacturing PMI</td>\n",
       "      <td>Low Impact Expected</td>\n",
       "      <td>5.400000e+01</td>\n",
       "      <td>5.320000e+01</td>\n",
       "      <td>5.420000e+01</td>\n",
       "      <td>False</td>\n",
       "    </tr>\n",
       "    <tr>\n",
       "      <th>26486</th>\n",
       "      <td>2013-01-02 15:00:00</td>\n",
       "      <td>USD</td>\n",
       "      <td>Construction Spending m/m</td>\n",
       "      <td>Low Impact Expected</td>\n",
       "      <td>-3.000000e-03</td>\n",
       "      <td>6.000000e-03</td>\n",
       "      <td>7.000000e-03</td>\n",
       "      <td>True</td>\n",
       "    </tr>\n",
       "    <tr>\n",
       "      <th>26487</th>\n",
       "      <td>2013-01-02 15:00:00</td>\n",
       "      <td>USD</td>\n",
       "      <td>ISM Manufacturing PMI</td>\n",
       "      <td>High Impact Expected</td>\n",
       "      <td>5.070000e+01</td>\n",
       "      <td>5.020000e+01</td>\n",
       "      <td>4.950000e+01</td>\n",
       "      <td>False</td>\n",
       "    </tr>\n",
       "    <tr>\n",
       "      <th>26488</th>\n",
       "      <td>2013-01-02 15:00:00</td>\n",
       "      <td>USD</td>\n",
       "      <td>ISM Manufacturing Prices</td>\n",
       "      <td>Low Impact Expected</td>\n",
       "      <td>5.550000e+01</td>\n",
       "      <td>5.140000e+01</td>\n",
       "      <td>5.250000e+01</td>\n",
       "      <td>False</td>\n",
       "    </tr>\n",
       "    <tr>\n",
       "      <th>26491</th>\n",
       "      <td>2013-01-03 00:00:00</td>\n",
       "      <td>USD</td>\n",
       "      <td>Total Vehicle Sales</td>\n",
       "      <td>Low Impact Expected</td>\n",
       "      <td>1.540000e+07</td>\n",
       "      <td>1.530000e+07</td>\n",
       "      <td>1.550000e+07</td>\n",
       "      <td>False</td>\n",
       "    </tr>\n",
       "  </tbody>\n",
       "</table>\n",
       "</div>"
      ],
      "text/plain": [
       "                 datetime currency                      event  \\\n",
       "26484 2013-01-02 14:00:00      USD    Final Manufacturing PMI   \n",
       "26486 2013-01-02 15:00:00      USD  Construction Spending m/m   \n",
       "26487 2013-01-02 15:00:00      USD      ISM Manufacturing PMI   \n",
       "26488 2013-01-02 15:00:00      USD   ISM Manufacturing Prices   \n",
       "26491 2013-01-03 00:00:00      USD        Total Vehicle Sales   \n",
       "\n",
       "                     impact        actual      forecast      previous  \\\n",
       "26484   Low Impact Expected  5.400000e+01  5.320000e+01  5.420000e+01   \n",
       "26486   Low Impact Expected -3.000000e-03  6.000000e-03  7.000000e-03   \n",
       "26487  High Impact Expected  5.070000e+01  5.020000e+01  4.950000e+01   \n",
       "26488   Low Impact Expected  5.550000e+01  5.140000e+01  5.250000e+01   \n",
       "26491   Low Impact Expected  1.540000e+07  1.530000e+07  1.550000e+07   \n",
       "\n",
       "      previous_revised  \n",
       "26484            False  \n",
       "26486             True  \n",
       "26487            False  \n",
       "26488            False  \n",
       "26491            False  "
      ]
     },
     "execution_count": 16,
     "metadata": {},
     "output_type": "execute_result"
    }
   ],
   "source": [
    "# drop 'id' column\n",
    "forex_calendar = forex_calendar.drop(columns=['id'])\n",
    "forex_calendar.head()\n"
   ]
  },
  {
   "cell_type": "code",
   "execution_count": 17,
   "metadata": {},
   "outputs": [],
   "source": [
    "# drop 'currency' column\n",
    "forex_calendar = forex_calendar.drop(columns=['currency'])"
   ]
  },
  {
   "cell_type": "markdown",
   "metadata": {},
   "source": [
    "### Independently coded event type and Encode Impact Levels"
   ]
  },
  {
   "cell_type": "code",
   "execution_count": null,
   "metadata": {},
   "outputs": [],
   "source": [
    "from sklearn.preprocessing import LabelEncoder\n",
    "import pickle\n",
    "\n",
    "# # Event Type Encoder: use LabelEncoder\n",
    "# label_encoder = LabelEncoder()\n",
    "# forex_calendar['event'] = label_encoder.fit_transform(forex_calendar['event'])\n",
    "\n",
    "# # 创建事件编码映射字典\n",
    "# event_mapping = dict(zip(label_encoder.classes_, forex_calendar['event']))\n",
    "\n",
    "# # 保存映射字典（可以使用pickle或JSON）\n",
    "# with open(\"event_mapping.pkl\", \"wb\") as f:\n",
    "#     pickle.dump(event_mapping, f)\n",
    "\n",
    "\n",
    "# Encode Impact Levels: Convert high, medium, and low into numerical values\n",
    "impact_mapping = {'High Impact Expected': 3, 'Medium Impact Expected': 2, 'Low Impact Expected': 1}\n",
    "forex_calendar['impact'] = forex_calendar['impact'].map(impact_mapping)"
   ]
  },
  {
   "cell_type": "code",
   "execution_count": null,
   "metadata": {},
   "outputs": [],
   "source": [
    "# # 加载事件映射字典\n",
    "# with open(\"event_mapping.pkl\", \"rb\") as f:\n",
    "#     event_mapping = pickle.load(f)\n",
    "\n",
    "# # 使用反向映射来解码\n",
    "# inverse_event_mapping = {v: k for k, v in event_mapping.items()}\n",
    "# inverse_event_mapping"
   ]
  },
  {
   "cell_type": "markdown",
   "metadata": {},
   "source": [
    "### Resample forex_calendar to hourly intervals"
   ]
  },
  {
   "cell_type": "code",
   "execution_count": null,
   "metadata": {},
   "outputs": [],
   "source": [
    "# One-Hot Encode 事件类型，并将其作为特征\n",
    "forex_calendar = pd.get_dummies(forex_calendar, columns=['impact'])\n",
    "# 合并后，模型能区分每个事件类型对观测值的影响\n"
   ]
  },
  {
   "cell_type": "markdown",
   "metadata": {},
   "source": [
    "#### 方法 1：使用多级索引（MultiIndex）\n",
    "\n",
    "可以将 datetime 和 event 作为多级索引。这样每个 datetime 可以对应多个 event，从而保留同一时间的多个经济事件。"
   ]
  },
  {
   "cell_type": "code",
   "execution_count": null,
   "metadata": {},
   "outputs": [],
   "source": [
    "# 将 'datetime' 和 'event' 作为多级索引\n",
    "forex_calendar.set_index(['datetime', 'event'], inplace=True)\n",
    "\n",
    "# 重采样后向前填充，只填充 'datetime' 层次\n",
    "forex_calendar = forex_calendar.groupby(level='datetime').ffill()"
   ]
  },
  {
   "cell_type": "code",
   "execution_count": null,
   "metadata": {},
   "outputs": [],
   "source": [
    "forex_calendar"
   ]
  },
  {
   "cell_type": "markdown",
   "metadata": {},
   "source": [
    "#### 方法 2：对事件进行扩展并合并（One-to-Many Expansion）\n",
    "\n",
    "另一种方法是对 datetime 进行扩展，将每个时间的所有事件合并为一个新列。例如，将 event、impact、actual 等列转换为列表或拼接字符串，以便在同一个时间点保留多个事件的信息。"
   ]
  },
  {
   "cell_type": "code",
   "execution_count": null,
   "metadata": {},
   "outputs": [],
   "source": [
    "# 按照 'datetime' 分组，并将事件数据合并为列表\n",
    "forex_calendar_grouped = forex_calendar.groupby('datetime').agg({\n",
    "    'event': list,       # 将事件转为列表\n",
    "    'impact': list,\n",
    "    'actual': list,\n",
    "    'forecast': list,\n",
    "    'previous': list,\n",
    "    'previous_revised': list\n",
    "}).reset_index()\n",
    "\n",
    "forex_calendar_grouped"
   ]
  },
  {
   "cell_type": "code",
   "execution_count": null,
   "metadata": {},
   "outputs": [],
   "source": [
    "# 合并数据，将多个事件的信息作为观测值的一部分\n",
    "combined_data = pd.merge_asof(xauusd_data, forex_calendar_grouped, left_index=True, right_on='datetime', direction='backward')"
   ]
  },
  {
   "cell_type": "markdown",
   "metadata": {},
   "source": [
    "#### 方法 3：展开为宽表格式（Pivot Wider）\n",
    "\n",
    "可以将事件展开为多个列，每列对应一个事件。这样可以在同一时间点展示多个事件的相关数据，但需要提前知道可能的事件数目。"
   ]
  },
  {
   "cell_type": "code",
   "execution_count": null,
   "metadata": {},
   "outputs": [],
   "source": [
    "# Extract unique events\n",
    "unique_events = forex_calendar['event'].unique()\n",
    "\n",
    "# Pivot wider by event\n",
    "forex_calendar = forex_calendar.pivot_table(\n",
    "    index='datetime',\n",
    "    columns='event',\n",
    "    values=['impact', 'actual', 'forecast', 'previous', 'previous_revised'],\n",
    "    aggfunc='first')\n",
    "\n",
    "# Flatten the MultiIndex columns\n",
    "forex_calendar.columns = [f\"{event}_{attr}\" for attr, event in forex_calendar.columns]\n",
    "\n",
    "# Reset the index to make 'datetime' a column again\n",
    "forex_calendar.reset_index(inplace=True)\n",
    "\n",
    "# Reorder columns to group attributes of each event together\n",
    "# Define the desired order of attributes\n",
    "attributes = ['impact', 'actual', 'forecast', 'previous', 'previous_revised']\n",
    "\n",
    "# Create the new column order\n",
    "new_column_order = ['datetime'] + [f\"{event}_{attr}\" for event in unique_events for attr in attributes]\n",
    "\n",
    "# Reorder the DataFrame with the updated column order, adding missing columns with NaN if necessary\n",
    "forex_calendar = forex_calendar.reindex(columns=new_column_order)\n",
    "\n",
    "# Display the first few rows to verify the result\n",
    "forex_calendar.head()"
   ]
  },
  {
   "cell_type": "code",
   "execution_count": null,
   "metadata": {},
   "outputs": [],
   "source": [
    "forex_calendar.columns"
   ]
  },
  {
   "cell_type": "markdown",
   "metadata": {},
   "source": [
    "#### 方法 4：在合并时使用笛卡尔积（Join with Cartesian Product）\n",
    "\n",
    "当您将 forex_calendar 数据合并到 XAUUSD 数据中时，可以使用笛卡尔积的方式来保留同一时间点的多个事件数据。"
   ]
  },
  {
   "cell_type": "code",
   "execution_count": null,
   "metadata": {},
   "outputs": [],
   "source": [
    "# Convert 'datetime' column to datetime format\n",
    "forex_calendar['datetime'] = pd.to_datetime(forex_calendar['datetime'])\n",
    "\n",
    "# Set DATETIME as the index\n",
    "forex_calendar.set_index('datetime', inplace=True)"
   ]
  },
  {
   "cell_type": "code",
   "execution_count": null,
   "metadata": {},
   "outputs": [],
   "source": [
    "# 使用 merge_asof 和笛卡尔积\n",
    "combined_data = hourly_ohlc.merge(forex_calendar, how='outer', left_index=True, right_index=True, suffixes=('', '_event'))"
   ]
  },
  {
   "cell_type": "code",
   "execution_count": null,
   "metadata": {},
   "outputs": [],
   "source": [
    "combined_data"
   ]
  },
  {
   "cell_type": "markdown",
   "metadata": {},
   "source": [
    "### Resample to 1h Interval\n",
    "This way, any event that occurs between 13:00:00 and 13:59:59 will be displayed as if it occurred at 14:00:00, aligning all data to hourly intervals."
   ]
  },
  {
   "cell_type": "code",
   "execution_count": null,
   "metadata": {},
   "outputs": [],
   "source": [
    "import pandas as pd\n",
    "import numpy as np\n",
    "\n",
    "# Ensure 'datetime' is in datetime format if it isn't already\n",
    "forex_calendar['datetime'] = pd.to_datetime(forex_calendar['datetime'])\n",
    "\n",
    "# Round up to the next hour\n",
    "forex_calendar['datetime'] = forex_calendar['datetime'].apply(\n",
    "    lambda x: x + pd.Timedelta(hours=1) \n",
    "    if x.minute > 0 or x.second > 0 \n",
    "    else x)\n",
    "\n",
    "# Set 'datetime' as the index\n",
    "forex_calendar.set_index('datetime', inplace=True)\n",
    "\n",
    "# Define aggregation functions for each column based on the data type\n",
    "aggregation_functions = {\n",
    "    col: 'last' for col in forex_calendar.columns\n",
    "}\n",
    "\n",
    "# Resample to hourly intervals, forward filling within each hour\n",
    "forex_calendar = forex_calendar.resample('h').agg(aggregation_functions)\n",
    "\n",
    "# Reset the index to make 'datetime' a column again\n",
    "forex_calendar.reset_index(inplace=True)"
   ]
  },
  {
   "cell_type": "markdown",
   "metadata": {},
   "source": [
    "### Save the clean data into CSV."
   ]
  },
  {
   "cell_type": "code",
   "execution_count": null,
   "metadata": {},
   "outputs": [],
   "source": [
    "# Save the cleaned data to a new CSV file\n",
    "forex_calendar.to_csv('C:\\\\Users\\\\User\\\\OneDrive - Asia Pacific University of Technology And Innovation (APU)\\\\CHIN_WEI_MIN_FYP_DATASET\\\\cleaned_forex_calendar.csv', index=False)"
   ]
  },
  {
   "cell_type": "markdown",
   "metadata": {},
   "source": [
    "## XAUUSD History Tick Data"
   ]
  },
  {
   "cell_type": "code",
   "execution_count": null,
   "metadata": {},
   "outputs": [
    {
     "name": "stdout",
     "output_type": "stream",
     "text": [
      "Loaded data for 2013\n",
      "                       DateTime      Bid      Ask  Volume\n",
      "0         20130101 23:00:03.408  1674.60  1675.65     200\n",
      "1         20130101 23:00:03.848  1674.54  1675.56     200\n",
      "2         20130101 23:00:03.968  1674.51  1675.56     200\n",
      "3         20130101 23:00:04.177  1674.47  1675.51     200\n",
      "4         20130101 23:00:04.538  1674.42  1675.47     200\n",
      "...                         ...      ...      ...     ...\n",
      "23175733  20131231 21:59:37.926  1205.49  1206.13     200\n",
      "23175734  20131231 21:59:43.534  1205.51  1206.16     200\n",
      "23175735  20131231 21:59:46.548  1205.49  1206.13     200\n",
      "23175736  20131231 21:59:56.086  1205.43  1206.07     200\n",
      "23175737  20131231 21:59:57.613  1205.39  1206.03     300\n",
      "\n",
      "[23175738 rows x 4 columns]\n",
      "                        open     high      low    close\n",
      "DateTime                                               \n",
      "2013-01-01 23:00:00  1674.60  1674.60  1670.15  1670.82\n",
      "2013-01-02 00:00:00  1670.80  1673.80  1670.35  1673.32\n",
      "2013-01-02 01:00:00  1673.32  1678.36  1672.85  1676.49\n",
      "2013-01-02 02:00:00  1676.49  1676.83  1675.55  1676.51\n",
      "2013-01-02 03:00:00  1676.51  1678.05  1674.51  1677.92\n",
      "...                      ...      ...      ...      ...\n",
      "2013-12-31 17:00:00  1206.88  1208.57  1204.28  1204.80\n",
      "2013-12-31 18:00:00  1204.80  1205.77  1202.25  1202.47\n",
      "2013-12-31 19:00:00  1202.45  1202.85  1199.20  1201.12\n",
      "2013-12-31 20:00:00  1201.14  1204.74  1200.96  1204.13\n",
      "2013-12-31 21:00:00  1204.13  1206.34  1203.93  1205.39\n",
      "\n",
      "[8735 rows x 4 columns]\n",
      "\n",
      "Missing Values Before Drop Null: open     2686\n",
      "high     2686\n",
      "low      2686\n",
      "close    2686\n",
      "dtype: int64\n",
      "\n",
      "Missing Values After Drop Null: open     0\n",
      "high     0\n",
      "low      0\n",
      "close    0\n",
      "dtype: int64\n"
     ]
    }
   ],
   "source": [
    "import pandas as pd\n",
    "import os\n",
    "\n",
    "# Directory where the files are stored\n",
    "directory_path = 'c:\\\\Users\\\\User\\\\OneDrive - Asia Pacific University\\\\CHIN_WEI_MIN_FYP_DATASET\\\\XAUUSD'\n",
    "save_directory_path = 'c:\\\\Users\\\\User\\\\OneDrive - Asia Pacific University\\\\CHIN_WEI_MIN_FYP_DATASET\\\\OHLC_XAUUSD_1h'\n",
    "\n",
    "for year in range(2013, 2025):\n",
    "    if year == 2024: year = '2024-09'\n",
    "    # Construct the file path for each year\n",
    "    file_path = os.path.join(directory_path, f'{year}XAUUSD-TICK-No Session.csv')\n",
    "    \n",
    "    # Load the data if the file exists\n",
    "    try:\n",
    "        tick_data = pd.read_csv(file_path)\n",
    "        print(f\"Loaded data for {year}\")\n",
    "        print(tick_data)\n",
    "        \n",
    "        # Convert 'DateTime' column to datetime format\n",
    "        tick_data['DateTime'] = pd.to_datetime(tick_data['DateTime'], format=\"%Y%m%d %H:%M:%S.%f\", errors='coerce')\n",
    "\n",
    "        # Set DATETIME as the index\n",
    "        tick_data.set_index('DateTime', inplace=True)\n",
    "        \n",
    "        # Apply filter for 2024 data to only include records up to 2024-07-31\n",
    "        if year == '2024-09':\n",
    "            tick_data = tick_data[tick_data.index <= '2024-07-31']\n",
    "        \n",
    "        # Convert it to OHLC Data\n",
    "        hourly_ohlc = tick_data['Bid'].resample('h').ohlc()\n",
    "        print(hourly_ohlc)\n",
    "\n",
    "        # Drop rows where any of the 'close' columns is null values (market close)\n",
    "        # before drop null\n",
    "        print(\"\\nMissing Values Before Drop Null:\", hourly_ohlc.isnull().sum())\n",
    "        # Drop rows where any of the 'close' columns have null values\n",
    "        hourly_ohlc = hourly_ohlc.dropna(subset=['close'])\n",
    "        # after drop null\n",
    "        print(\"\\nMissing Values After Drop Null:\", hourly_ohlc.isnull().sum())\n",
    "\n",
    "        # Add 'day' column\n",
    "        hourly_ohlc = hourly_ohlc.assign(day=hourly_ohlc.index.dayofweek)\n",
    "\n",
    "        # Save the cleaned data to a new CSV file\n",
    "        hourly_ohlc.to_csv(os.path.join(save_directory_path, f'{year}.csv'), index=True)\n",
    "    \n",
    "    except FileNotFoundError:\n",
    "        print(f\"File for {year} not found.\")"
   ]
  },
  {
   "cell_type": "code",
   "execution_count": 9,
   "metadata": {},
   "outputs": [],
   "source": [
    "import pandas as pd\n",
    "import pandas_ta as ta\n",
    "\n",
    "def add_technical_indicators(df):\n",
    "  # Calculate technical indicators\n",
    "  # 1. Relative Strength Index (RSI)\n",
    "  df['RSI'] = ta.rsi(df['close'], length=14)\n",
    "\n",
    "  # 2. Moving Average Convergence Divergence (MACD)\n",
    "  macd = ta.macd(df['close'], fast=12, slow=26, signal=9)\n",
    "  macd.columns = ['MACD', 'MACD_Histogram', 'MACD_Signal']\n",
    "  df = df.join(macd)\n",
    "\n",
    "  # 3. Bollinger Bands\n",
    "  bbands = ta.bbands(df['close'], length=20, std=2)\n",
    "  df = df.join(bbands)\n",
    "\n",
    "  # 4. Stochastic Oscillator\n",
    "  stoch = ta.stoch(df['high'], df['low'], df['close'], k=14, d=3)\n",
    "  df = df.join(stoch)\n",
    "\n",
    "  # 5. Average Directional Index (ADX)\n",
    "  df['ADX'] = ta.adx(df['high'], df['low'], df['close'], length=14)['ADX_14']\n",
    "\n",
    "  # 6. Commodity Channel Index (CCI)\n",
    "  df['CCI'] = ta.cci(df['high'], df['low'], df['close'], length=20)\n",
    "\n",
    "  # 7. Parabolic Stop and Reverse (Parabolic SAR)\n",
    "  df['PSAR'] = ta.psar(df['high'], df['low'], df['close'], af=0.02, max_af=0.2)['PSARl_0.02_0.2']\n",
    "\n",
    "  # 8. Simple Moving Average (SMA)\n",
    "  df['SMA'] = ta.sma(df['close'], length=50)\n",
    "\n",
    "  # 9. Fibonacci Retracement Levels\n",
    "  # Calculate the high and low over a specified period\n",
    "  period = 20  # You can adjust this period as needed\n",
    "  df['High_Max'] = df['high'].rolling(window=period).max()\n",
    "  df['Low_Min'] = df['low'].rolling(window=period).min()\n",
    "  # Calculate Fibonacci levels\n",
    "  df['Fib_23.6'] = df['High_Max'] - (df['High_Max'] - df['Low_Min']) * 0.236\n",
    "  df['Fib_38.2'] = df['High_Max'] - (df['High_Max'] - df['Low_Min']) * 0.382\n",
    "  df['Fib_50.0'] = df['High_Max'] - (df['High_Max'] - df['Low_Min']) * 0.500\n",
    "  df['Fib_61.8'] = df['High_Max'] - (df['High_Max'] - df['Low_Min']) * 0.618\n",
    "  df['Fib_100.0'] = df['High_Max'] - (df['High_Max'] - df['Low_Min']) * 1.000\n",
    "  # Drop intermediate columns\n",
    "  df.drop(columns=['High_Max', 'Low_Min'], inplace=True)\n",
    "  \n",
    "  # Display the DataFrame with the new indicators\n",
    "  print(df.tail())\n",
    "\n",
    "  return df"
   ]
  },
  {
   "cell_type": "code",
   "execution_count": 10,
   "metadata": {},
   "outputs": [
    {
     "name": "stdout",
     "output_type": "stream",
     "text": [
      "Loaded data for 2013\n",
      "Loaded data for 2014\n",
      "Loaded data for 2015\n",
      "Loaded data for 2016\n",
      "Loaded data for 2017\n",
      "Loaded data for 2018\n",
      "Loaded data for 2019\n",
      "Loaded data for 2020\n",
      "Loaded data for 2021\n",
      "Loaded data for 2022\n",
      "Loaded data for 2023\n",
      "Loaded data for 2024-07\n",
      "                 DateTime     open     high      low    close  day        RSI  \\\n",
      "68817 2024-07-30 18:00:00  2405.64  2407.26  2403.55  2404.79    1  65.762832   \n",
      "68818 2024-07-30 19:00:00  2404.76  2408.28  2403.64  2406.98    1  67.323754   \n",
      "68819 2024-07-30 20:00:00  2406.91  2412.70  2406.88  2410.38    1  69.638118   \n",
      "68820 2024-07-30 22:00:00  2409.90  2410.82  2407.97  2408.99    1  67.532250   \n",
      "68821 2024-07-30 23:00:00  2409.14  2410.07  2408.36  2409.68    1  68.048774   \n",
      "\n",
      "           MACD  MACD_Histogram  MACD_Signal  ...  STOCHd_14_3_3        ADX  \\\n",
      "68817  3.844702        1.827406     2.017296  ...      75.131347  19.890546   \n",
      "68818  4.567830        2.040427     2.527403  ...      79.686544  21.833784   \n",
      "68819  5.353553        2.260921     3.092633  ...      84.356665  24.026180   \n",
      "68820  5.797256        2.163699     3.633557  ...      85.293671  26.061976   \n",
      "68821  6.133864        2.000245     4.133619  ...      87.925830  27.952358   \n",
      "\n",
      "              CCI         PSAR        SMA    Fib_23.6    Fib_38.2  Fib_50.0  \\\n",
      "68817  227.816601  2384.361600  2388.7794  2402.67216  2397.64392  2393.580   \n",
      "68818  198.003788  2385.419136  2389.2180  2402.67216  2397.64392  2393.580   \n",
      "68819  191.305493  2386.434371  2389.6446  2404.12376  2398.81812  2394.530   \n",
      "68820  149.361180  2388.010308  2390.1582  2404.60284  2399.59358  2395.545   \n",
      "68821  126.231848  2389.491690  2390.6662  2405.28960  2400.70520  2397.000   \n",
      "\n",
      "         Fib_61.8  Fib_100.0  \n",
      "68817  2389.51608    2376.36  \n",
      "68818  2389.51608    2376.36  \n",
      "68819  2390.24188    2376.36  \n",
      "68820  2391.49642    2378.39  \n",
      "68821  2393.29480    2381.30  \n",
      "\n",
      "[5 rows x 26 columns]\n"
     ]
    }
   ],
   "source": [
    "# Concatenate all dataframes into a single dataframe\n",
    "\n",
    "# Directory where the files are stored\n",
    "directory_path = 'c:\\\\Users\\\\User\\\\OneDrive - Asia Pacific University\\\\CHIN_WEI_MIN_FYP_DATASET\\\\OHLC_XAUUSD_1h'\n",
    "\n",
    "# Initialize an empty list to store dataframes for each year\n",
    "all_data = []\n",
    "\n",
    "# Loop through years 2014 to 2024\n",
    "for year in range(2013, 2025):\n",
    "    if year == 2024: year = '2024-07'\n",
    "    \n",
    "    # Construct the file path for each year\n",
    "    file_path = os.path.join(directory_path, f'{year}.csv')\n",
    "    \n",
    "    # Load the data if the file exists\n",
    "    try:\n",
    "        tick_data = pd.read_csv(file_path)\n",
    "        print(f\"Loaded data for {year}\")\n",
    "\n",
    "        # Convert 'DateTime' column to datetime format\n",
    "        tick_data['DateTime'] = pd.to_datetime(tick_data['DateTime'])\n",
    "\n",
    "        # Append the data to the list\n",
    "        all_data.append(tick_data)\n",
    "\n",
    "    except FileNotFoundError:\n",
    "        print(f\"File for {year} not found.\")\n",
    "    except Exception as e:\n",
    "        print(f\"Error loading data for {year}: {e}\")\n",
    "\n",
    "combined_data = pd.concat(all_data, ignore_index=True)\n",
    "combined_data = add_technical_indicators(combined_data)\n",
    "\n",
    "# Save the combined data to a CSV file\n",
    "combined_data.to_csv(os.path.join(save_directory_path, '2013-202407.csv'), index=False)\n"
   ]
  },
  {
   "cell_type": "code",
   "execution_count": null,
   "metadata": {},
   "outputs": [],
   "source": [
    "combined_data"
   ]
  },
  {
   "cell_type": "code",
   "execution_count": null,
   "metadata": {},
   "outputs": [],
   "source": [
    "hourly_ohlc"
   ]
  },
  {
   "cell_type": "code",
   "execution_count": null,
   "metadata": {},
   "outputs": [],
   "source": [
    "hourly_ohlc.info()"
   ]
  },
  {
   "cell_type": "markdown",
   "metadata": {},
   "source": [
    "### Convert it to OHLC Data"
   ]
  },
  {
   "cell_type": "code",
   "execution_count": null,
   "metadata": {},
   "outputs": [],
   "source": [
    "# Convert 'DateTime' column to datetime format\n",
    "tick_data['DateTime'] = pd.to_datetime(tick_data['DateTime'], format=\"%Y%m%d %H:%M:%S.%f\", errors='coerce')\n",
    "\n",
    "# Set DATETIME as the index\n",
    "tick_data.set_index('DateTime', inplace=True)"
   ]
  },
  {
   "cell_type": "code",
   "execution_count": null,
   "metadata": {},
   "outputs": [],
   "source": [
    "hourly_ohlc = tick_data['Bid'].resample('h').ohlc()\n",
    "hourly_ohlc"
   ]
  },
  {
   "cell_type": "markdown",
   "metadata": {},
   "source": [
    "### Drop rows where any of the 'close' columns is null values (market close)\n",
    "\n"
   ]
  },
  {
   "cell_type": "code",
   "execution_count": null,
   "metadata": {},
   "outputs": [],
   "source": [
    "# before drop null\n",
    "print(\"\\nMissing Values Before Drop Null:\", hourly_ohlc.isnull().sum())\n",
    "\n",
    "# Drop rows where any of the 'close' columns have null values\n",
    "hourly_ohlc = hourly_ohlc.dropna(subset=['close'])\n",
    "\n",
    "# after drop null\n",
    "print(\"\\nMissing Values After Drop Null:\", hourly_ohlc.isnull().sum())"
   ]
  },
  {
   "cell_type": "markdown",
   "metadata": {},
   "source": [
    "### Add 'day' column"
   ]
  },
  {
   "cell_type": "code",
   "execution_count": null,
   "metadata": {},
   "outputs": [],
   "source": [
    "hourly_ohlc = hourly_ohlc.assign(day=hourly_ohlc.index.dayofweek)"
   ]
  },
  {
   "cell_type": "markdown",
   "metadata": {},
   "source": [
    "### Feature Engineering (Technical Indicator)"
   ]
  },
  {
   "cell_type": "code",
   "execution_count": null,
   "metadata": {},
   "outputs": [],
   "source": [
    "import pandas as pd\n",
    "import pandas_ta as ta\n",
    "\n",
    "def add_technical_indicators(df):\n",
    "  # Calculate technical indicators\n",
    "  # 1. Relative Strength Index (RSI)\n",
    "  df['RSI'] = ta.rsi(df['close'], length=14)\n",
    "\n",
    "  # 2. Moving Average Convergence Divergence (MACD)\n",
    "  macd = ta.macd(df['close'], fast=12, slow=26, signal=9)\n",
    "  macd.columns = ['MACD', 'MACD_Histogram', 'MACD_Signal']\n",
    "  df = df.join(macd)\n",
    "\n",
    "  # 3. Bollinger Bands\n",
    "  bbands = ta.bbands(df['close'], length=20, std=2)\n",
    "  df = df.join(bbands)\n",
    "\n",
    "  # 4. Stochastic Oscillator\n",
    "  stoch = ta.stoch(df['high'], df['low'], df['close'], k=14, d=3)\n",
    "  df = df.join(stoch)\n",
    "\n",
    "  # 5. Average Directional Index (ADX)\n",
    "  df['ADX'] = ta.adx(df['high'], df['low'], df['close'], length=14)['ADX_14']\n",
    "\n",
    "  # 6. Commodity Channel Index (CCI)\n",
    "  df['CCI'] = ta.cci(df['high'], df['low'], df['close'], length=20)\n",
    "\n",
    "  # 7. Parabolic Stop and Reverse (Parabolic SAR)\n",
    "  df['PSAR'] = ta.psar(df['high'], df['low'], df['close'], af=0.02, max_af=0.2)['PSARl_0.02_0.2']\n",
    "\n",
    "  # 8. Simple Moving Average (SMA)\n",
    "  df['SMA'] = ta.sma(df['close'], length=50)\n",
    "\n",
    "  # 9. Fibonacci Retracement Levels\n",
    "  # Calculate the high and low over a specified period\n",
    "  period = 20  # You can adjust this period as needed\n",
    "  df['High_Max'] = df['high'].rolling(window=period).max()\n",
    "  df['Low_Min'] = df['low'].rolling(window=period).min()\n",
    "  # Calculate Fibonacci levels\n",
    "  df['Fib_23.6'] = df['High_Max'] - (df['High_Max'] - df['Low_Min']) * 0.236\n",
    "  df['Fib_38.2'] = df['High_Max'] - (df['High_Max'] - df['Low_Min']) * 0.382\n",
    "  df['Fib_50.0'] = df['High_Max'] - (df['High_Max'] - df['Low_Min']) * 0.500\n",
    "  df['Fib_61.8'] = df['High_Max'] - (df['High_Max'] - df['Low_Min']) * 0.618\n",
    "  df['Fib_100.0'] = df['High_Max'] - (df['High_Max'] - df['Low_Min']) * 1.000\n",
    "  # Drop intermediate columns\n",
    "  df.drop(columns=['High_Max', 'Low_Min'], inplace=True)\n",
    "  \n",
    "  # Display the DataFrame with the new indicators\n",
    "  print(df.tail())\n",
    "\n",
    "  return df"
   ]
  },
  {
   "cell_type": "code",
   "execution_count": null,
   "metadata": {},
   "outputs": [],
   "source": [
    "hourly_ohlc = add_technical_indicators(hourly_ohlc)"
   ]
  },
  {
   "cell_type": "markdown",
   "metadata": {},
   "source": [
    "### Save the clean data into CSV."
   ]
  },
  {
   "cell_type": "code",
   "execution_count": null,
   "metadata": {},
   "outputs": [],
   "source": [
    "# Save the cleaned data to a new CSV file\n",
    "hourly_ohlc.to_csv('C:\\\\Users\\\\User\\\\OneDrive - Asia Pacific University of Technology And Innovation (APU)\\\\CHIN_WEI_MIN_FYP_DATASET\\\\OHLC_XAUUSD_1h\\\\2016.csv', index=True)"
   ]
  },
  {
   "cell_type": "markdown",
   "metadata": {},
   "source": [
    "# Merge Two Dataset"
   ]
  },
  {
   "cell_type": "code",
   "execution_count": 36,
   "metadata": {},
   "outputs": [],
   "source": [
    "import pandas as pd\n",
    "\n",
    "# Load the clean dataset\n",
    "file_path = 'c:\\\\Users\\\\User\\\\OneDrive - Asia Pacific University\\\\CHIN_WEI_MIN_FYP_DATASET\\\\cleaned_forex_calendar.csv'\n",
    "forex_calendar  = pd.read_csv(file_path, low_memory=False)\n",
    "\n",
    "file_path = 'c:\\\\Users\\\\User\\\\OneDrive - Asia Pacific University\\\\CHIN_WEI_MIN_FYP_DATASET\\\\OHLC_XAUUSD_1h\\\\2013-202407.csv'\n",
    "tick_data  = pd.read_csv(file_path)"
   ]
  },
  {
   "cell_type": "code",
   "execution_count": 37,
   "metadata": {},
   "outputs": [
    {
     "name": "stdout",
     "output_type": "stream",
     "text": [
      "<class 'pandas.core.frame.DataFrame'>\n",
      "RangeIndex: 68799 entries, 0 to 68798\n",
      "Columns: 421 entries, DateTime to Cleveland Fed Inflation Expectations_previous_revised\n",
      "dtypes: datetime64[ns](1), float64(340), int64(1), object(79)\n",
      "memory usage: 221.0+ MB\n",
      "None\n"
     ]
    }
   ],
   "source": [
    "# Directory where the files are stored\n",
    "directory_path = 'c:\\\\Users\\\\User\\\\OneDrive - Asia Pacific University\\\\CHIN_WEI_MIN_FYP_DATASET'\n",
    "\n",
    "# Convert 'DateTime' column to datetime format\n",
    "forex_calendar['datetime'] = pd.to_datetime(forex_calendar['datetime'])\n",
    "tick_data['DateTime'] = pd.to_datetime(tick_data['DateTime'])\n",
    "\n",
    "# Set DATETIME as the index\n",
    "forex_calendar.set_index('datetime', inplace=True)\n",
    "tick_data.set_index('DateTime', inplace=True)\n",
    "\n",
    "# Merging datasets by index\n",
    "combined_df = pd.merge(tick_data, forex_calendar, left_index=True, right_index=True)\n",
    "\n",
    "# Resetting index to 'DateTime'\n",
    "combined_df.reset_index(inplace=True)\n",
    "combined_df.rename(columns={'index': 'DateTime'}, inplace=True)\n",
    "\n",
    "print(combined_df.info())\n",
    "\n",
    "# Split the data into training and trading sets\n",
    "train_end_date = '2023-12-31'  # Adjust this date based on your project\n",
    "train_df = combined_df[combined_df['DateTime'] <= train_end_date]\n",
    "trade_df = combined_df[combined_df['DateTime'] > train_end_date]\n",
    "\n",
    "# Save the combined data to a CSV file\n",
    "combined_df.to_csv(os.path.join(directory_path, 'dataset.csv'), index=False)\n",
    "train_df.to_csv(os.path.join(directory_path, 'train_dataset.csv'), index=False)\n",
    "trade_df.to_csv(os.path.join(directory_path, 'trade_dataset.csv'), index=False)\n"
   ]
  },
  {
   "cell_type": "code",
   "execution_count": 38,
   "metadata": {},
   "outputs": [
    {
     "name": "stdout",
     "output_type": "stream",
     "text": [
      "\n",
      "Missing data per column:\n",
      " DateTime                                                     0\n",
      "open                                                         0\n",
      "high                                                         0\n",
      "low                                                          0\n",
      "close                                                        0\n",
      "                                                         ...  \n",
      "Cleveland Fed Inflation Expectations_impact              68794\n",
      "Cleveland Fed Inflation Expectations_actual              68794\n",
      "Cleveland Fed Inflation Expectations_forecast            68799\n",
      "Cleveland Fed Inflation Expectations_previous            68794\n",
      "Cleveland Fed Inflation Expectations_previous_revised    68794\n",
      "Length: 421, dtype: int64\n"
     ]
    }
   ],
   "source": [
    "# Check for Missing Data and Gaps\n",
    "def check_missing_data(df):\n",
    "    missing_data = df.isnull().sum()\n",
    "    print(\"\\nMissing data per column:\\n\", missing_data)\n",
    "check_missing_data(combined_df)"
   ]
  },
  {
   "cell_type": "code",
   "execution_count": 29,
   "metadata": {},
   "outputs": [
    {
     "data": {
      "text/html": [
       "<div>\n",
       "<style scoped>\n",
       "    .dataframe tbody tr th:only-of-type {\n",
       "        vertical-align: middle;\n",
       "    }\n",
       "\n",
       "    .dataframe tbody tr th {\n",
       "        vertical-align: top;\n",
       "    }\n",
       "\n",
       "    .dataframe thead th {\n",
       "        text-align: right;\n",
       "    }\n",
       "</style>\n",
       "<table border=\"1\" class=\"dataframe\">\n",
       "  <thead>\n",
       "    <tr style=\"text-align: right;\">\n",
       "      <th></th>\n",
       "      <th>DateTime</th>\n",
       "      <th>open</th>\n",
       "      <th>high</th>\n",
       "      <th>low</th>\n",
       "      <th>close</th>\n",
       "      <th>day</th>\n",
       "      <th>RSI</th>\n",
       "      <th>MACD</th>\n",
       "      <th>MACD_Histogram</th>\n",
       "      <th>MACD_Signal</th>\n",
       "      <th>...</th>\n",
       "      <th>Prelim Wholesale Inventories m/m_impact</th>\n",
       "      <th>Prelim Wholesale Inventories m/m_actual</th>\n",
       "      <th>Prelim Wholesale Inventories m/m_forecast</th>\n",
       "      <th>Prelim Wholesale Inventories m/m_previous</th>\n",
       "      <th>Prelim Wholesale Inventories m/m_previous_revised</th>\n",
       "      <th>Cleveland Fed Inflation Expectations_impact</th>\n",
       "      <th>Cleveland Fed Inflation Expectations_actual</th>\n",
       "      <th>Cleveland Fed Inflation Expectations_forecast</th>\n",
       "      <th>Cleveland Fed Inflation Expectations_previous</th>\n",
       "      <th>Cleveland Fed Inflation Expectations_previous_revised</th>\n",
       "    </tr>\n",
       "  </thead>\n",
       "  <tbody>\n",
       "    <tr>\n",
       "      <th>0</th>\n",
       "      <td>2013-01-01 23:00:00</td>\n",
       "      <td>1674.60</td>\n",
       "      <td>1674.60</td>\n",
       "      <td>1670.15</td>\n",
       "      <td>1670.82</td>\n",
       "      <td>1.0</td>\n",
       "      <td>NaN</td>\n",
       "      <td>NaN</td>\n",
       "      <td>NaN</td>\n",
       "      <td>NaN</td>\n",
       "      <td>...</td>\n",
       "      <td>NaN</td>\n",
       "      <td>NaN</td>\n",
       "      <td>NaN</td>\n",
       "      <td>NaN</td>\n",
       "      <td>NaN</td>\n",
       "      <td>NaN</td>\n",
       "      <td>NaN</td>\n",
       "      <td>NaN</td>\n",
       "      <td>NaN</td>\n",
       "      <td>NaN</td>\n",
       "    </tr>\n",
       "    <tr>\n",
       "      <th>1</th>\n",
       "      <td>2013-01-02 00:00:00</td>\n",
       "      <td>1670.80</td>\n",
       "      <td>1673.80</td>\n",
       "      <td>1670.35</td>\n",
       "      <td>1673.32</td>\n",
       "      <td>2.0</td>\n",
       "      <td>NaN</td>\n",
       "      <td>NaN</td>\n",
       "      <td>NaN</td>\n",
       "      <td>NaN</td>\n",
       "      <td>...</td>\n",
       "      <td>NaN</td>\n",
       "      <td>NaN</td>\n",
       "      <td>NaN</td>\n",
       "      <td>NaN</td>\n",
       "      <td>NaN</td>\n",
       "      <td>NaN</td>\n",
       "      <td>NaN</td>\n",
       "      <td>NaN</td>\n",
       "      <td>NaN</td>\n",
       "      <td>NaN</td>\n",
       "    </tr>\n",
       "    <tr>\n",
       "      <th>2</th>\n",
       "      <td>2013-01-02 01:00:00</td>\n",
       "      <td>1673.32</td>\n",
       "      <td>1678.36</td>\n",
       "      <td>1672.85</td>\n",
       "      <td>1676.49</td>\n",
       "      <td>2.0</td>\n",
       "      <td>NaN</td>\n",
       "      <td>NaN</td>\n",
       "      <td>NaN</td>\n",
       "      <td>NaN</td>\n",
       "      <td>...</td>\n",
       "      <td>NaN</td>\n",
       "      <td>NaN</td>\n",
       "      <td>NaN</td>\n",
       "      <td>NaN</td>\n",
       "      <td>NaN</td>\n",
       "      <td>NaN</td>\n",
       "      <td>NaN</td>\n",
       "      <td>NaN</td>\n",
       "      <td>NaN</td>\n",
       "      <td>NaN</td>\n",
       "    </tr>\n",
       "    <tr>\n",
       "      <th>3</th>\n",
       "      <td>2013-01-02 02:00:00</td>\n",
       "      <td>1676.49</td>\n",
       "      <td>1676.83</td>\n",
       "      <td>1675.55</td>\n",
       "      <td>1676.51</td>\n",
       "      <td>2.0</td>\n",
       "      <td>NaN</td>\n",
       "      <td>NaN</td>\n",
       "      <td>NaN</td>\n",
       "      <td>NaN</td>\n",
       "      <td>...</td>\n",
       "      <td>NaN</td>\n",
       "      <td>NaN</td>\n",
       "      <td>NaN</td>\n",
       "      <td>NaN</td>\n",
       "      <td>NaN</td>\n",
       "      <td>NaN</td>\n",
       "      <td>NaN</td>\n",
       "      <td>NaN</td>\n",
       "      <td>NaN</td>\n",
       "      <td>NaN</td>\n",
       "    </tr>\n",
       "    <tr>\n",
       "      <th>4</th>\n",
       "      <td>2013-01-02 03:00:00</td>\n",
       "      <td>1676.51</td>\n",
       "      <td>1678.05</td>\n",
       "      <td>1674.51</td>\n",
       "      <td>1677.92</td>\n",
       "      <td>2.0</td>\n",
       "      <td>NaN</td>\n",
       "      <td>NaN</td>\n",
       "      <td>NaN</td>\n",
       "      <td>NaN</td>\n",
       "      <td>...</td>\n",
       "      <td>NaN</td>\n",
       "      <td>NaN</td>\n",
       "      <td>NaN</td>\n",
       "      <td>NaN</td>\n",
       "      <td>NaN</td>\n",
       "      <td>NaN</td>\n",
       "      <td>NaN</td>\n",
       "      <td>NaN</td>\n",
       "      <td>NaN</td>\n",
       "      <td>NaN</td>\n",
       "    </tr>\n",
       "    <tr>\n",
       "      <th>...</th>\n",
       "      <td>...</td>\n",
       "      <td>...</td>\n",
       "      <td>...</td>\n",
       "      <td>...</td>\n",
       "      <td>...</td>\n",
       "      <td>...</td>\n",
       "      <td>...</td>\n",
       "      <td>...</td>\n",
       "      <td>...</td>\n",
       "      <td>...</td>\n",
       "      <td>...</td>\n",
       "      <td>...</td>\n",
       "      <td>...</td>\n",
       "      <td>...</td>\n",
       "      <td>...</td>\n",
       "      <td>...</td>\n",
       "      <td>...</td>\n",
       "      <td>...</td>\n",
       "      <td>...</td>\n",
       "      <td>...</td>\n",
       "      <td>...</td>\n",
       "    </tr>\n",
       "    <tr>\n",
       "      <th>101467</th>\n",
       "      <td>2024-07-30 18:00:00</td>\n",
       "      <td>2405.64</td>\n",
       "      <td>2407.26</td>\n",
       "      <td>2403.55</td>\n",
       "      <td>2404.79</td>\n",
       "      <td>1.0</td>\n",
       "      <td>65.762832</td>\n",
       "      <td>3.844702</td>\n",
       "      <td>1.827406</td>\n",
       "      <td>2.017296</td>\n",
       "      <td>...</td>\n",
       "      <td>NaN</td>\n",
       "      <td>NaN</td>\n",
       "      <td>NaN</td>\n",
       "      <td>NaN</td>\n",
       "      <td>NaN</td>\n",
       "      <td>NaN</td>\n",
       "      <td>NaN</td>\n",
       "      <td>NaN</td>\n",
       "      <td>NaN</td>\n",
       "      <td>NaN</td>\n",
       "    </tr>\n",
       "    <tr>\n",
       "      <th>101468</th>\n",
       "      <td>2024-07-30 19:00:00</td>\n",
       "      <td>2404.76</td>\n",
       "      <td>2408.28</td>\n",
       "      <td>2403.64</td>\n",
       "      <td>2406.98</td>\n",
       "      <td>1.0</td>\n",
       "      <td>67.323754</td>\n",
       "      <td>4.567830</td>\n",
       "      <td>2.040427</td>\n",
       "      <td>2.527403</td>\n",
       "      <td>...</td>\n",
       "      <td>NaN</td>\n",
       "      <td>NaN</td>\n",
       "      <td>NaN</td>\n",
       "      <td>NaN</td>\n",
       "      <td>NaN</td>\n",
       "      <td>NaN</td>\n",
       "      <td>NaN</td>\n",
       "      <td>NaN</td>\n",
       "      <td>NaN</td>\n",
       "      <td>NaN</td>\n",
       "    </tr>\n",
       "    <tr>\n",
       "      <th>101469</th>\n",
       "      <td>2024-07-30 20:00:00</td>\n",
       "      <td>2406.91</td>\n",
       "      <td>2412.70</td>\n",
       "      <td>2406.88</td>\n",
       "      <td>2410.38</td>\n",
       "      <td>1.0</td>\n",
       "      <td>69.638118</td>\n",
       "      <td>5.353553</td>\n",
       "      <td>2.260921</td>\n",
       "      <td>3.092633</td>\n",
       "      <td>...</td>\n",
       "      <td>NaN</td>\n",
       "      <td>NaN</td>\n",
       "      <td>NaN</td>\n",
       "      <td>NaN</td>\n",
       "      <td>NaN</td>\n",
       "      <td>NaN</td>\n",
       "      <td>NaN</td>\n",
       "      <td>NaN</td>\n",
       "      <td>NaN</td>\n",
       "      <td>NaN</td>\n",
       "    </tr>\n",
       "    <tr>\n",
       "      <th>101470</th>\n",
       "      <td>2024-07-30 22:00:00</td>\n",
       "      <td>2409.90</td>\n",
       "      <td>2410.82</td>\n",
       "      <td>2407.97</td>\n",
       "      <td>2408.99</td>\n",
       "      <td>1.0</td>\n",
       "      <td>67.532250</td>\n",
       "      <td>5.797256</td>\n",
       "      <td>2.163699</td>\n",
       "      <td>3.633557</td>\n",
       "      <td>...</td>\n",
       "      <td>NaN</td>\n",
       "      <td>NaN</td>\n",
       "      <td>NaN</td>\n",
       "      <td>NaN</td>\n",
       "      <td>NaN</td>\n",
       "      <td>NaN</td>\n",
       "      <td>NaN</td>\n",
       "      <td>NaN</td>\n",
       "      <td>NaN</td>\n",
       "      <td>NaN</td>\n",
       "    </tr>\n",
       "    <tr>\n",
       "      <th>101471</th>\n",
       "      <td>2024-07-30 23:00:00</td>\n",
       "      <td>2409.14</td>\n",
       "      <td>2410.07</td>\n",
       "      <td>2408.36</td>\n",
       "      <td>2409.68</td>\n",
       "      <td>1.0</td>\n",
       "      <td>68.048774</td>\n",
       "      <td>6.133864</td>\n",
       "      <td>2.000245</td>\n",
       "      <td>4.133619</td>\n",
       "      <td>...</td>\n",
       "      <td>NaN</td>\n",
       "      <td>NaN</td>\n",
       "      <td>NaN</td>\n",
       "      <td>NaN</td>\n",
       "      <td>NaN</td>\n",
       "      <td>NaN</td>\n",
       "      <td>NaN</td>\n",
       "      <td>NaN</td>\n",
       "      <td>NaN</td>\n",
       "      <td>NaN</td>\n",
       "    </tr>\n",
       "  </tbody>\n",
       "</table>\n",
       "<p>101472 rows × 421 columns</p>\n",
       "</div>"
      ],
      "text/plain": [
       "                  DateTime     open     high      low    close  day  \\\n",
       "0      2013-01-01 23:00:00  1674.60  1674.60  1670.15  1670.82  1.0   \n",
       "1      2013-01-02 00:00:00  1670.80  1673.80  1670.35  1673.32  2.0   \n",
       "2      2013-01-02 01:00:00  1673.32  1678.36  1672.85  1676.49  2.0   \n",
       "3      2013-01-02 02:00:00  1676.49  1676.83  1675.55  1676.51  2.0   \n",
       "4      2013-01-02 03:00:00  1676.51  1678.05  1674.51  1677.92  2.0   \n",
       "...                    ...      ...      ...      ...      ...  ...   \n",
       "101467 2024-07-30 18:00:00  2405.64  2407.26  2403.55  2404.79  1.0   \n",
       "101468 2024-07-30 19:00:00  2404.76  2408.28  2403.64  2406.98  1.0   \n",
       "101469 2024-07-30 20:00:00  2406.91  2412.70  2406.88  2410.38  1.0   \n",
       "101470 2024-07-30 22:00:00  2409.90  2410.82  2407.97  2408.99  1.0   \n",
       "101471 2024-07-30 23:00:00  2409.14  2410.07  2408.36  2409.68  1.0   \n",
       "\n",
       "              RSI      MACD  MACD_Histogram  MACD_Signal  ...  \\\n",
       "0             NaN       NaN             NaN          NaN  ...   \n",
       "1             NaN       NaN             NaN          NaN  ...   \n",
       "2             NaN       NaN             NaN          NaN  ...   \n",
       "3             NaN       NaN             NaN          NaN  ...   \n",
       "4             NaN       NaN             NaN          NaN  ...   \n",
       "...           ...       ...             ...          ...  ...   \n",
       "101467  65.762832  3.844702        1.827406     2.017296  ...   \n",
       "101468  67.323754  4.567830        2.040427     2.527403  ...   \n",
       "101469  69.638118  5.353553        2.260921     3.092633  ...   \n",
       "101470  67.532250  5.797256        2.163699     3.633557  ...   \n",
       "101471  68.048774  6.133864        2.000245     4.133619  ...   \n",
       "\n",
       "        Prelim Wholesale Inventories m/m_impact  \\\n",
       "0                                           NaN   \n",
       "1                                           NaN   \n",
       "2                                           NaN   \n",
       "3                                           NaN   \n",
       "4                                           NaN   \n",
       "...                                         ...   \n",
       "101467                                      NaN   \n",
       "101468                                      NaN   \n",
       "101469                                      NaN   \n",
       "101470                                      NaN   \n",
       "101471                                      NaN   \n",
       "\n",
       "        Prelim Wholesale Inventories m/m_actual  \\\n",
       "0                                           NaN   \n",
       "1                                           NaN   \n",
       "2                                           NaN   \n",
       "3                                           NaN   \n",
       "4                                           NaN   \n",
       "...                                         ...   \n",
       "101467                                      NaN   \n",
       "101468                                      NaN   \n",
       "101469                                      NaN   \n",
       "101470                                      NaN   \n",
       "101471                                      NaN   \n",
       "\n",
       "        Prelim Wholesale Inventories m/m_forecast  \\\n",
       "0                                             NaN   \n",
       "1                                             NaN   \n",
       "2                                             NaN   \n",
       "3                                             NaN   \n",
       "4                                             NaN   \n",
       "...                                           ...   \n",
       "101467                                        NaN   \n",
       "101468                                        NaN   \n",
       "101469                                        NaN   \n",
       "101470                                        NaN   \n",
       "101471                                        NaN   \n",
       "\n",
       "        Prelim Wholesale Inventories m/m_previous  \\\n",
       "0                                             NaN   \n",
       "1                                             NaN   \n",
       "2                                             NaN   \n",
       "3                                             NaN   \n",
       "4                                             NaN   \n",
       "...                                           ...   \n",
       "101467                                        NaN   \n",
       "101468                                        NaN   \n",
       "101469                                        NaN   \n",
       "101470                                        NaN   \n",
       "101471                                        NaN   \n",
       "\n",
       "        Prelim Wholesale Inventories m/m_previous_revised  \\\n",
       "0                                                     NaN   \n",
       "1                                                     NaN   \n",
       "2                                                     NaN   \n",
       "3                                                     NaN   \n",
       "4                                                     NaN   \n",
       "...                                                   ...   \n",
       "101467                                                NaN   \n",
       "101468                                                NaN   \n",
       "101469                                                NaN   \n",
       "101470                                                NaN   \n",
       "101471                                                NaN   \n",
       "\n",
       "        Cleveland Fed Inflation Expectations_impact  \\\n",
       "0                                               NaN   \n",
       "1                                               NaN   \n",
       "2                                               NaN   \n",
       "3                                               NaN   \n",
       "4                                               NaN   \n",
       "...                                             ...   \n",
       "101467                                          NaN   \n",
       "101468                                          NaN   \n",
       "101469                                          NaN   \n",
       "101470                                          NaN   \n",
       "101471                                          NaN   \n",
       "\n",
       "        Cleveland Fed Inflation Expectations_actual  \\\n",
       "0                                               NaN   \n",
       "1                                               NaN   \n",
       "2                                               NaN   \n",
       "3                                               NaN   \n",
       "4                                               NaN   \n",
       "...                                             ...   \n",
       "101467                                          NaN   \n",
       "101468                                          NaN   \n",
       "101469                                          NaN   \n",
       "101470                                          NaN   \n",
       "101471                                          NaN   \n",
       "\n",
       "        Cleveland Fed Inflation Expectations_forecast  \\\n",
       "0                                                 NaN   \n",
       "1                                                 NaN   \n",
       "2                                                 NaN   \n",
       "3                                                 NaN   \n",
       "4                                                 NaN   \n",
       "...                                               ...   \n",
       "101467                                            NaN   \n",
       "101468                                            NaN   \n",
       "101469                                            NaN   \n",
       "101470                                            NaN   \n",
       "101471                                            NaN   \n",
       "\n",
       "        Cleveland Fed Inflation Expectations_previous  \\\n",
       "0                                                 NaN   \n",
       "1                                                 NaN   \n",
       "2                                                 NaN   \n",
       "3                                                 NaN   \n",
       "4                                                 NaN   \n",
       "...                                               ...   \n",
       "101467                                            NaN   \n",
       "101468                                            NaN   \n",
       "101469                                            NaN   \n",
       "101470                                            NaN   \n",
       "101471                                            NaN   \n",
       "\n",
       "        Cleveland Fed Inflation Expectations_previous_revised  \n",
       "0                                                     NaN      \n",
       "1                                                     NaN      \n",
       "2                                                     NaN      \n",
       "3                                                     NaN      \n",
       "4                                                     NaN      \n",
       "...                                                   ...      \n",
       "101467                                                NaN      \n",
       "101468                                                NaN      \n",
       "101469                                                NaN      \n",
       "101470                                                NaN      \n",
       "101471                                                NaN      \n",
       "\n",
       "[101472 rows x 421 columns]"
      ]
     },
     "execution_count": 29,
     "metadata": {},
     "output_type": "execute_result"
    }
   ],
   "source": [
    "combined_df"
   ]
  },
  {
   "cell_type": "code",
   "execution_count": null,
   "metadata": {},
   "outputs": [],
   "source": [
    "forex_calendar"
   ]
  },
  {
   "cell_type": "code",
   "execution_count": null,
   "metadata": {},
   "outputs": [],
   "source": [
    "tick_data"
   ]
  }
 ],
 "metadata": {
  "colab": {
   "authorship_tag": "ABX9TyP4+EmJzWau7pCHxzsDwcp3",
   "collapsed_sections": [
    "UKaCkcZdmlUG"
   ],
   "provenance": []
  },
  "kernelspec": {
   "display_name": "rl_trading",
   "language": "python",
   "name": "python3"
  },
  "language_info": {
   "codemirror_mode": {
    "name": "ipython",
    "version": 3
   },
   "file_extension": ".py",
   "mimetype": "text/x-python",
   "name": "python",
   "nbconvert_exporter": "python",
   "pygments_lexer": "ipython3",
   "version": "3.12.3"
  }
 },
 "nbformat": 4,
 "nbformat_minor": 0
}
